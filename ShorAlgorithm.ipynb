{
 "cells": [
  {
   "cell_type": "markdown",
   "metadata": {},
   "source": [
    "# Simulating Shor's Algorithm with Qiskit"
   ]
  },
  {
   "cell_type": "markdown",
   "metadata": {},
   "source": [
    "This page is summarized of what I did at qiskit camp during Febrary 26th, 2019 to March 1st, 2019."
   ]
  },
  {
   "cell_type": "markdown",
   "metadata": {},
   "source": [
    "## 1. Qiskit\n",
    "### 1.1 Real Device"
   ]
  },
  {
   "cell_type": "markdown",
   "metadata": {},
   "source": [
    "<img src=\"QEC.gif\" alt=\"drawing\" width=\"400\"/>"
   ]
  },
  {
   "cell_type": "markdown",
   "metadata": {},
   "source": [
    "<img src=\"https://github.com/Qiskit/ibmq-device-information/raw/master/backends/yorktown/images/ibmqx2-labeled.png?raw=true\" alt=\"ibmqx2_real\" width=\"400\"/>"
   ]
  },
  {
   "cell_type": "markdown",
   "metadata": {},
   "source": [
    "<img src=\"https://github.com/Qiskit/ibmq-device-information/raw/master/backends/yorktown/images/ibmqx2_bus.png?raw=true\" alt=\"ibmqx2_real\" width=\"400\"/>\n",
    "\n",
    "Ref] https://github.com/Qiskit/ibmq-device-information/tree/master/backends/yorktown/V1"
   ]
  },
  {
   "cell_type": "markdown",
   "metadata": {},
   "source": [
    "## 1.2 How to use"
   ]
  },
  {
   "cell_type": "code",
   "execution_count": 29,
   "metadata": {},
   "outputs": [],
   "source": [
    "from qiskit import IBMQ"
   ]
  },
  {
   "cell_type": "markdown",
   "metadata": {},
   "source": [
    "https://quantumexperience.ng.bluemix.net/qx/account/advanced"
   ]
  },
  {
   "cell_type": "code",
   "execution_count": 28,
   "metadata": {},
   "outputs": [
    {
     "name": "stderr",
     "output_type": "stream",
     "text": [
      "C:\\Users\\HaEum\\Anaconda3\\lib\\site-packages\\qiskit\\providers\\ibmq\\ibmqprovider.py:251: UserWarning: Credentials are already in use.\n",
      "  warnings.warn('Credentials are already in use.')\n"
     ]
    }
   ],
   "source": [
    "##If needed\n",
    "#IBMQ.save_account('6f9fca906ff7204d585e92c0f91c5eaa8fad7751f8bab4a58757cf8f7b5d1dc1cc0f758daea7f116b48f1c6eeee0e85d1bc4c6845361389612e02f5e177d6eda')\n",
    "IBMQ.load_accounts()"
   ]
  },
  {
   "cell_type": "code",
   "execution_count": 30,
   "metadata": {},
   "outputs": [
    {
     "name": "stdout",
     "output_type": "stream",
     "text": [
      "Available backends:\n"
     ]
    },
    {
     "data": {
      "text/plain": [
       "[<IBMQBackend('ibmqx4') from IBMQ()>,\n",
       " <IBMQBackend('ibmqx2') from IBMQ()>,\n",
       " <IBMQBackend('ibmq_16_melbourne') from IBMQ()>,\n",
       " <IBMQBackend('ibmq_qasm_simulator') from IBMQ()>]"
      ]
     },
     "execution_count": 30,
     "metadata": {},
     "output_type": "execute_result"
    }
   ],
   "source": [
    "print(\"Available backends:\")\n",
    "##ibmq_16 : 13 qubits\n",
    "##ibmqx2,ibmqx4 : 5 qubits \n",
    "IBMQ.backends()"
   ]
  },
  {
   "cell_type": "markdown",
   "metadata": {},
   "source": [
    "Make some easy quantum circuits and simulate with real device.\n",
    "\n",
    "Single qubit operation :"
   ]
  },
  {
   "cell_type": "code",
   "execution_count": 5,
   "metadata": {},
   "outputs": [
    {
     "data": {
      "image/png": "[encoded data removed]",
      "text/plain": [
       "<Figure size 301x138.46 with 1 Axes>"
      ]
     },
     "execution_count": 5,
     "metadata": {},
     "output_type": "execute_result"
    }
   ],
   "source": [
    "from qiskit import QuantumRegister,ClassicalRegister, QuantumCircuit\n",
    "\n",
    "n = 1\n",
    "q = QuantumRegister(n)\n",
    "c = ClassicalRegister(n)\n",
    "qc0 = QuantumCircuit(q,c)\n",
    "\n",
    "qc0.x(q[0])\n",
    "qc0.measure(q[0],c[0])\n",
    "\n",
    "qc0.draw(output='mpl')"
   ]
  },
  {
   "cell_type": "code",
   "execution_count": 6,
   "metadata": {},
   "outputs": [
    {
     "name": "stdout",
     "output_type": "stream",
     "text": [
      "The best backend is ibmqx4\n"
     ]
    }
   ],
   "source": [
    "from qiskit.providers.ibmq import least_busy\n",
    "\n",
    "large_enough_devices = IBMQ.backends(filters=lambda x: x.configuration().n_qubits > 4 and\n",
    "                                                       not x.configuration().simulator)\n",
    "backend = least_busy(large_enough_devices)\n",
    "print(\"The best backend is \" + backend.name())"
   ]
  },
  {
   "cell_type": "code",
   "execution_count": 7,
   "metadata": {},
   "outputs": [
    {
     "data": {
      "application/vnd.jupyter.widget-view+json": {
       "model_id": "74689c26b3304c759300fb7b3792fa3f",
       "version_major": 2,
       "version_minor": 0
      },
      "text/plain": [
       "HTML(value=\"<p style='font-size:16px;'>Job Status: job is being initialized </p>\")"
      ]
     },
     "metadata": {},
     "output_type": "display_data"
    }
   ],
   "source": [
    "from qiskit import execute\n",
    "from qiskit.tools.monitor import job_monitor\n",
    "\n",
    "shots = 100           # Number of shots to run the program (experiment); maximum is 8192 shots.\n",
    "max_credits = 3        # Maximum number of credits to spend on executions. \n",
    "\n",
    "job_qc0 = execute(qc0,backend=backend,shots=shots, max_credits=max_credits)\n",
    "job_monitor(job_qc0)"
   ]
  },
  {
   "cell_type": "code",
   "execution_count": 8,
   "metadata": {},
   "outputs": [
    {
     "data": {
      "image/png": "[encoded data removed]",
      "text/plain": [
       "<Figure size 504x360 with 1 Axes>"
      ]
     },
     "execution_count": 8,
     "metadata": {},
     "output_type": "execute_result"
    }
   ],
   "source": [
    "from qiskit.tools.visualization import plot_histogram\n",
    "\n",
    "result_qc0 = job_qc0.result()\n",
    "plot_histogram(result_qc0.get_counts())"
   ]
  },
  {
   "cell_type": "markdown",
   "metadata": {},
   "source": [
    "Two qubit operation :"
   ]
  },
  {
   "cell_type": "code",
   "execution_count": 9,
   "metadata": {},
   "outputs": [
    {
     "data": {
      "image/png": "[encoded data removed]",
      "text/plain": [
       "<Figure size 421.4x258.86 with 1 Axes>"
      ]
     },
     "execution_count": 9,
     "metadata": {},
     "output_type": "execute_result"
    }
   ],
   "source": [
    "n = 2\n",
    "q2 = QuantumRegister(n)\n",
    "c2 = ClassicalRegister(n)\n",
    "qc1 = QuantumCircuit(q2,c2)\n",
    "\n",
    "qc1.h(q2[0])\n",
    "qc1.cx(q2[0],q2[1])\n",
    "qc1.measure(q2[0],c2[0])\n",
    "qc1.measure(q2[1],c2[1])\n",
    "\n",
    "qc1.draw(output='mpl')"
   ]
  },
  {
   "cell_type": "code",
   "execution_count": 20,
   "metadata": {},
   "outputs": [
    {
     "data": {
      "application/vnd.jupyter.widget-view+json": {
       "model_id": "01671d2142074181a36f1c2e1bb09acb",
       "version_major": 2,
       "version_minor": 0
      },
      "text/plain": [
       "HTML(value=\"<p style='font-size:16px;'>Job Status: job is being initialized </p>\")"
      ]
     },
     "metadata": {},
     "output_type": "display_data"
    }
   ],
   "source": [
    "shots = 100           # Number of shots to run the program (experiment); maximum is 8192 shots.\n",
    "max_credits = 3        # Maximum number of credits to spend on executions. \n",
    "\n",
    "job_qc1 = execute(qc1,backend=backend,shots=shots, max_credits=max_credits)\n",
    "job_monitor(job_qc1)"
   ]
  },
  {
   "cell_type": "code",
   "execution_count": 21,
   "metadata": {},
   "outputs": [
    {
     "data": {
      "image/png": "[encoded data removed]",
      "text/plain": [
       "<Figure size 504x360 with 1 Axes>"
      ]
     },
     "execution_count": 21,
     "metadata": {},
     "output_type": "execute_result"
    }
   ],
   "source": [
    "result_qc1 = job_qc1.result()\n",
    "plot_histogram(result_qc1.get_counts())"
   ]
  },
  {
   "cell_type": "markdown",
   "metadata": {},
   "source": [
    "We can check the result by simulating on our local classical computer :"
   ]
  },
  {
   "cell_type": "code",
   "execution_count": 10,
   "metadata": {},
   "outputs": [
    {
     "data": {
      "image/png": "[encoded data removed]",
      "text/plain": [
       "<Figure size 504x360 with 1 Axes>"
      ]
     },
     "execution_count": 10,
     "metadata": {},
     "output_type": "execute_result"
    }
   ],
   "source": [
    "from qiskit import Aer\n",
    "\n",
    "backend = Aer.get_backend(\"qasm_simulator\")\n",
    "simulate_qc1 = execute(qc1,backend=backend,shots=shots, max_credits=max_credits)\n",
    "\n",
    "result_sim_qc1 = simulate_qc1.result()\n",
    "plot_histogram(result_sim_qc1.get_counts())"
   ]
  },
  {
   "cell_type": "markdown",
   "metadata": {},
   "source": [
    "# 2. Shor's Algorithm\n",
    "\n",
    "## 2.1 Introduction"
   ]
  },
  {
   "cell_type": "markdown",
   "metadata": {},
   "source": [
    "Shor's Algorithm is an algorithm for factorization that is efficient in quantum computer.\n",
    "\n",
    "<img src=\"https://dal.objectstorage.open.softlayer.com/v1/AUTH_039c3bf6e6e54d76b8e66152e2f87877/images-classroom/shor-figure1l0qpbqeb138fr.png\" alt=\"shor_vs_classical\" width=\"800\"/>\n",
    "\n",
    "This result comes from factorizing an integer $N$ is similar to find period $r$\n",
    "\n",
    "\\begin{equation}\n",
    "a^r\\;(mod\\;N)=1\\;.\n",
    "\\end{equation}\n",
    "\n",
    "With number theory, based on Chinese remainder theorem : \n",
    "\n",
    "Suppose $N$ is factorized with $m$ different odd prime numbers. Then $a$ and $r$ that satisfy the above equation,\n",
    "\n",
    "\\begin{equation}\n",
    "Prob[(r\\in Even)\\cap\\;(a^{r/2}(mod\\;N)\\neq-1)]\\geq1-\\frac{1}{2^m}\n",
    "\\end{equation}\n",
    "\n",
    "Then with high probability\n",
    "\n",
    "\\begin{equation}\n",
    "(a^{r/2}+1)(a^{r/2}-1)\\;(mod\\;N)=0\\;,\n",
    "\\end{equation}\n",
    "\n",
    "which means $GCD(a^{r/2}\\pm1,N)$ are factors of $N$.\n",
    "\n",
    "\n",
    "\n",
    "Ref] https://quantumexperience.ng.bluemix.net/proxy/tutorial/full-user-guide/004-Quantum_Algorithms/110-Shor%27s_algorithm.html\n",
    "\n",
    "Ref] Nielsen, M. A., & Chuang, I. (2002). Quantum computation and quantum information."
   ]
  },
  {
   "cell_type": "markdown",
   "metadata": {},
   "source": [
    "## 2.2 The Reason why it is faster \n",
    "\n",
    "There are two reason that shor's algorithm is efficient at quantum computer than classical computer. The first reason is we can deal with all of candidate of period $r$ at one try with entangle state, and second reason is the efficiency of quantum fourier transform.\n",
    "\n",
    "### 2.2.1 Order Finding Algorithm\n",
    "\n",
    "<img src=\"https://upload.wikimedia.org/wikipedia/commons/thumb/6/6b/Shor%27s_algorithm.svg/450px-Shor%27s_algorithm.svg.png\" alt=\"shor_vs_classical\" width=\"550\"/>\n",
    "\n",
    "\\begin{equation}\n",
    "\\begin{aligned}\n",
    "\\vert 0 \\rangle\\vert 1 \\rangle&\\rightarrow\n",
    "\\frac{1}{\\sqrt{2^t}}\\sum^{2^t-1}_{j=0}\\vert j \\rangle\\vert 1 \\rangle\\\\\n",
    "&\\rightarrow\n",
    "\\frac{1}{\\sqrt{2^t}}\\sum^{2^t-1}_{j=0}\\vert j \\rangle\\vert x^j\\;(mod\\;N) \\rangle\\\\\n",
    "&\\;\\;\\;\\;\\approx\\frac{1}{\\sqrt{r2^t}}\\sum^{r-1}_{s=0}\\sum^{2^t-1}_{j=0}e^{2\\pi isj/r}\\vert j \\rangle\\vert u_s \\rangle\\\\\n",
    "&\\rightarrow\n",
    "\\frac{1}{\\sqrt{r}}\\sum^{r-1}_{s=0}\\vert \\widetilde{s/r} \\rangle\\vert u_s \\rangle\\\\\n",
    "&\\rightarrow\n",
    "\\widetilde{\\frac{s}{r}}\\;\\;\\;(s\\in\\{0,...,r-1\\})\n",
    "\\end{aligned}\n",
    "\\end{equation}\n"
   ]
  },
  {
   "cell_type": "markdown",
   "metadata": {},
   "source": [
    "### 2.2.2 Quantum Fourier Transform\n",
    "\n",
    "Quantum Fourier Transform is exponential faster than classical algorithm because of the entanglement."
   ]
  },
  {
   "cell_type": "code",
   "execution_count": 4,
   "metadata": {},
   "outputs": [],
   "source": [
    "import math\n",
    "\n",
    "def qft(circ,q,n):\n",
    "    \"\"\"n-qubit QFT on q in circ reverse order.\"\"\"\n",
    "    for j in range(n):\n",
    "        for k in range(j):\n",
    "            circ.cu1(math.pi/float(2**(j-k)), q[j], q[k])\n",
    "        circ.h(q[j])\n",
    "def inord(circ, q, n):\n",
    "    \"\"\"n-qubit ordering be correct to QFT\"\"\"\n",
    "    for j in range(math.floor(n/2)):\n",
    "        circ.swap(q[j],q[n-j-1])"
   ]
  },
  {
   "cell_type": "markdown",
   "metadata": {},
   "source": [
    "example for 3 qubits fourier transform :"
   ]
  },
  {
   "cell_type": "code",
   "execution_count": 29,
   "metadata": {},
   "outputs": [
    {
     "data": {
      "image/png": "[encoded data removed]",
      "text/plain": [
       "<Figure size 602x198.66 with 1 Axes>"
      ]
     },
     "execution_count": 29,
     "metadata": {},
     "output_type": "execute_result"
    }
   ],
   "source": [
    "n=3\n",
    "q=QuantumRegister(n)\n",
    "qfc3=QuantumCircuit(q)\n",
    "qft(qfc3,q,n)\n",
    "inord(qfc3,q,n)\n",
    "qfc3.draw(output='mpl')"
   ]
  },
  {
   "cell_type": "markdown",
   "metadata": {},
   "source": [
    "\\begin{equation}\n",
    "\\begin{aligned}\n",
    "\\vert j \\rangle &\\rightarrow \\frac{1}{2^{n/2}}\\sum^{2^n-1}_{k=0}e^{2\\pi ijk/2^n}\\vert k \\rangle\\\\\n",
    "&=\\frac{(\\vert 0 \\rangle+e^{2\\pi i0.j_n }\\vert 1 \\rangle)(\\vert0 \\rangle+e^{2\\pi i0.j_{n-1}j_n}\\vert1 \\rangle)...(\\vert0 \\rangle+e^{2\\pi i0.j_1 j_2 ...j_n }\\vert1 \\rangle)}{2^{n/2}}\n",
    "\\end{aligned}\n",
    "\\end{equation}\n",
    "\n",
    "with \n",
    "\n",
    "\\begin{equation}\n",
    "j=j_1 2^{n-1}+j_2 2^{n-2}+...+j_n 2^{0}\\\\\n",
    "\\end{equation}\n",
    "\n",
    "Simulatition with initial state $\\vert \\psi \\rangle=  \\frac{1}{\\sqrt{8}}\\sum^{7}_{k=0}\\vert k \\rangle$ :"
   ]
  },
  {
   "cell_type": "code",
   "execution_count": 13,
   "metadata": {},
   "outputs": [
    {
     "data": {
      "image/png": "[encoded data removed]",
      "text/plain": [
       "<Figure size 963.2x379.26 with 1 Axes>"
      ]
     },
     "execution_count": 13,
     "metadata": {},
     "output_type": "execute_result"
    }
   ],
   "source": [
    "n=3\n",
    "c=ClassicalRegister(n)\n",
    "q=QuantumRegister(n)\n",
    "qfc3=QuantumCircuit(q,c)\n",
    "\n",
    "##input state\n",
    "for i in range(n):\n",
    "    qfc3.h(q[i])\n",
    "qfc3.barrier()\n",
    "\n",
    "##fourier transform\n",
    "qft(qfc3,q,n)\n",
    "inord(qfc3,q,n)\n",
    "\n",
    "##measurment\n",
    "qfc3.barrier()\n",
    "for i in range(n):\n",
    "    qfc3.measure(q[i], c[i])\n",
    "qfc3.draw(output='mpl')"
   ]
  },
  {
   "cell_type": "code",
   "execution_count": 14,
   "metadata": {},
   "outputs": [
    {
     "name": "stdout",
     "output_type": "stream",
     "text": [
      "The best backend is ibmqx4\n"
     ]
    }
   ],
   "source": [
    "large_enough_devices = IBMQ.backends(filters=lambda x: x.configuration().n_qubits > 4 and\n",
    "                                                       not x.configuration().simulator)\n",
    "backend = least_busy(large_enough_devices)\n",
    "print(\"The best backend is \" + backend.name())"
   ]
  },
  {
   "cell_type": "code",
   "execution_count": 15,
   "metadata": {},
   "outputs": [
    {
     "data": {
      "application/vnd.jupyter.widget-view+json": {
       "model_id": "e2cb0b087ffd4470830a88e44a726f24",
       "version_major": 2,
       "version_minor": 0
      },
      "text/plain": [
       "HTML(value=\"<p style='font-size:16px;'>Job Status: job is being initialized </p>\")"
      ]
     },
     "metadata": {},
     "output_type": "display_data"
    }
   ],
   "source": [
    "shots = 100           # Number of shots to run the program (experiment); maximum is 8192 shots.\n",
    "max_credits = 3        # Maximum number of credits to spend on executions. \n",
    "\n",
    "job_qfc3 = execute(qfc3,backend=backend,shots=shots, max_credits=max_credits)\n",
    "job_monitor(job_qfc3)"
   ]
  },
  {
   "cell_type": "code",
   "execution_count": 16,
   "metadata": {},
   "outputs": [
    {
     "data": {
      "image/png": "[encoded data removed]",
      "text/plain": [
       "<Figure size 504x360 with 1 Axes>"
      ]
     },
     "execution_count": 16,
     "metadata": {},
     "output_type": "execute_result"
    }
   ],
   "source": [
    "result_qfc3 = job_qfc3.result()\n",
    "plot_histogram(result_qfc3.get_counts())"
   ]
  },
  {
   "cell_type": "code",
   "execution_count": 17,
   "metadata": {},
   "outputs": [
    {
     "data": {
      "image/png": "[encoded data removed]",
      "text/plain": [
       "<Figure size 504x360 with 1 Axes>"
      ]
     },
     "execution_count": 17,
     "metadata": {},
     "output_type": "execute_result"
    }
   ],
   "source": [
    "backend = Aer.get_backend(\"qasm_simulator\")\n",
    "simulate_qfc3 = execute(qfc3,backend=backend,shots=shots, max_credits=max_credits)\n",
    "\n",
    "result_sim_qfc3 = simulate_qfc3.result()\n",
    "plot_histogram(result_sim_qfc3.get_counts())"
   ]
  },
  {
   "cell_type": "markdown",
   "metadata": {},
   "source": [
    "n = 4 :"
   ]
  },
  {
   "cell_type": "code",
   "execution_count": 11,
   "metadata": {},
   "outputs": [
    {
     "data": {
      "image/png": "[encoded data removed]",
      "text/plain": [
       "<Figure size 1264.2x499.66 with 1 Axes>"
      ]
     },
     "execution_count": 11,
     "metadata": {},
     "output_type": "execute_result"
    }
   ],
   "source": [
    "n=4\n",
    "c=ClassicalRegister(n)\n",
    "q=QuantumRegister(n)\n",
    "qfc4=QuantumCircuit(q,c)\n",
    "\n",
    "##input state\n",
    "for i in range(n):\n",
    "    qfc4.h(q[i])\n",
    "qfc4.barrier()\n",
    "\n",
    "##fourier transform\n",
    "qft(qfc4,q,n)\n",
    "inord(qfc4,q,n)\n",
    "\n",
    "##measurment\n",
    "qfc4.barrier()\n",
    "for i in range(n):\n",
    "    qfc4.measure(q[i], c[i])\n",
    "qfc4.draw(output='mpl')"
   ]
  },
  {
   "cell_type": "code",
   "execution_count": 20,
   "metadata": {},
   "outputs": [
    {
     "name": "stdout",
     "output_type": "stream",
     "text": [
      "The best backend is ibmq_16_melbourne\n"
     ]
    }
   ],
   "source": [
    "large_enough_devices = IBMQ.backends(filters=lambda x: x.configuration().n_qubits > 4 and\n",
    "                                                       not x.configuration().simulator)\n",
    "backend = least_busy(large_enough_devices)\n",
    "print(\"The best backend is \" + backend.name())"
   ]
  },
  {
   "cell_type": "code",
   "execution_count": 17,
   "metadata": {},
   "outputs": [
    {
     "data": {
      "application/vnd.jupyter.widget-view+json": {
       "model_id": "c8727879d03d4d928a655268212c0ac8",
       "version_major": 2,
       "version_minor": 0
      },
      "text/plain": [
       "HTML(value=\"<p style='font-size:16px;'>Job Status: job is being initialized </p>\")"
      ]
     },
     "metadata": {},
     "output_type": "display_data"
    }
   ],
   "source": [
    "shots = 1000           # Number of shots to run the program (experiment); maximum is 8192 shots.\n",
    "max_credits = 3        # Maximum number of credits to spend on executions. \n",
    "\n",
    "job_qfc4 = execute(qfc4,backend=backend,shots=shots, max_credits=max_credits)\n",
    "job_monitor(job_qfc4)"
   ]
  },
  {
   "cell_type": "code",
   "execution_count": 18,
   "metadata": {},
   "outputs": [
    {
     "data": {
      "image/png": "[encoded data removed]",
      "text/plain": [
       "<Figure size 504x360 with 1 Axes>"
      ]
     },
     "execution_count": 18,
     "metadata": {},
     "output_type": "execute_result"
    }
   ],
   "source": [
    "result_qfc4 = job_qfc4.result()\n",
    "plot_histogram(result_qfc4.get_counts())"
   ]
  },
  {
   "cell_type": "markdown",
   "metadata": {},
   "source": [
    "<img src=\"https://github.com/Qiskit/ibmq-device-information/raw/master/backends/yorktown/images/ibmqx2_bus.png?raw=true\" alt=\"ibmqx2_real\" width=\"400\"/>"
   ]
  },
  {
   "cell_type": "code",
   "execution_count": 23,
   "metadata": {},
   "outputs": [
    {
     "data": {
      "image/png": "[encoded data removed]",
      "text/plain": [
       "<Figure size 504x360 with 1 Axes>"
      ]
     },
     "execution_count": 23,
     "metadata": {},
     "output_type": "execute_result"
    }
   ],
   "source": [
    "backend = Aer.get_backend(\"qasm_simulator\")\n",
    "simulate_qfc4 = execute(qfc4,backend=backend,shots=shots, max_credits=max_credits)\n",
    "\n",
    "result_sim_qfc4 = simulate_qfc4.result()\n",
    "plot_histogram(result_sim_qfc4.get_counts())"
   ]
  },
  {
   "cell_type": "markdown",
   "metadata": {},
   "source": [
    "### 2.2.3 Controlled-Modulator\n",
    "\n",
    "This operator works as\n",
    "\n",
    "\\begin{equation}\n",
    "\\vert 1 \\rangle\\rightarrow\\vert a^x(mod\\;N) \\rangle\\;.\n",
    "\\end{equation}\n",
    "\n",
    "It is not as trivial to make in quantum circuit, and also has lot of way to construct it. But it can be constructed by polynomial cost. The below code is made by paper, V.Vedral, A.Barenco, A.Ekert,\"Quantum networks for elementary arithmetic operations\".\n",
    "\n",
    "<img src=\"modular_exponentiation.png\" alt=\"modular_exponentiation\" width=\"600\"/>\n",
    "\n",
    "(  Ctrl-MULT-MOD : $\\vert x_i \\rangle\\vert \\beta \\rangle\\vert 0 \\rangle\\rightarrow\\vert x_i \\rangle\\vert \\beta \\rangle\\vert A\\times \\beta (mod\\;N) \\rangle$  )"
   ]
  },
  {
   "cell_type": "code",
   "execution_count": 2,
   "metadata": {},
   "outputs": [],
   "source": [
    "import math\n",
    "import numpy as np\n",
    "from qiskit import QuantumRegister,ClassicalRegister,QuantumCircuit\n",
    "from qiskit import Aer, execute\n",
    "from qiskit.providers.ibmq import least_busy\n",
    "from qiskit.tools.monitor import job_monitor\n",
    "from qiskit.tools.visualization import plot_histogram"
   ]
  },
  {
   "cell_type": "code",
   "execution_count": 25,
   "metadata": {},
   "outputs": [],
   "source": [
    "# n-qubit number input state\n",
    "def tobit(circuit, q, x, n):\n",
    "    # integer to binary\n",
    "    x = \"{0:b}\".format(x)\n",
    "    #padleft\n",
    "    x = x.zfill(n)\n",
    "    # creating the state\n",
    "    for i in range(n):\n",
    "        if int(x[n-1-i]) == 1:\n",
    "            circuit.x(q[i])\n",
    "            \n",
    "def cc_tobit(circuit, q, x, qc, qcx, n):\n",
    "    # integer to binary\n",
    "    x= \"{0:b}\".format(x)\n",
    "    # padleft\n",
    "    x = x.zfill(n)\n",
    "    # creating the state\n",
    "    # creating the state\n",
    "    for i in range(n):\n",
    "        if int(x[n-1-i]) == 1:\n",
    "            circuit.ccx(qc[0], qcx, q[i])\n",
    "\n",
    "def cc_tobit2(circuit, q, x, qc, qcx, n):\n",
    "    # integer to binary\n",
    "    x= \"{0:b}\".format(x)\n",
    "    # padleft\n",
    "    x = x.zfill(n)\n",
    "    # creating the state\n",
    "    # creating the state\n",
    "    for i in range(n):\n",
    "        if int(x[n-1-i]) == 1:\n",
    "            circuit.ccx(qc, qcx, q[i])\n",
    "            \n",
    "            \n",
    "def carry(circuit, q0, q1, q2, q3):\n",
    "    circuit.ccx(q1, q2, q3)\n",
    "    circuit.cx(q1, q2)\n",
    "    circuit.ccx(q0, q2, q3)\n",
    "    \n",
    "def i_carry(circuit, q0, q1, q2, q3):\n",
    "    circuit.ccx(q0, q2, q3)\n",
    "    circuit.cx(q1, q2)\n",
    "    circuit.ccx(q1, q2, q3)\n",
    "    \n",
    "def summing(circuit, q0, q1, q2):\n",
    "    circuit.cx(q1, q2)\n",
    "    circuit.cx(q0, q2)\n",
    "\n",
    "def i_summing(circuit, q0, q1, q2):\n",
    "    \"summation module running backwards\"\n",
    "    circuit.cx(q0, q2)\n",
    "    circuit.cx(q1, q2)\n",
    "    \n",
    "# quantum plain addition algorithm for n-qubit numbers    \n",
    "def addition(circuit, qa, qb, qc, n):\n",
    "    if n == 1:\n",
    "        circuit.ccx(qa[0], qb[0], qb[1])\n",
    "        circuit.cx(qa[0], qb[0])\n",
    "    else:\n",
    "        circuit.ccx(qa[0], qb[0], qc[0])\n",
    "        circuit.cx(qa[0], qb[0])\n",
    "        for i in range(n-2):\n",
    "            carry(circuit, qc[i], qa[i+1], qb[i+1], qc[i+1])\n",
    "        carry(circuit, qc[n-2], qa[n-1], qb[n-1], qb[n])\n",
    "        circuit.cx(qa[n-1], qb[n-1])\n",
    "        for i in range(n-1, 1, -1):\n",
    "            summing(circuit, qc[i-1], qa[i], qb[i])\n",
    "            i_carry(circuit, qc[i-2], qa[i-1], qb[i-1], qc[i-1])\n",
    "        summing(circuit, qc[0], qa[1], qb[1])\n",
    "        circuit.cx(qa[0], qb[0])\n",
    "        circuit.ccx(qa[0], qb[0], qc[0])\n",
    "        circuit.cx(qa[0], qb[0])\n",
    "\n",
    "# Change to only reverse of original work\n",
    "# quantum plain substraction algorithm for n-qubit numbers\n",
    "def i_addition(circuit, qa, qb, qc, n):\n",
    "    \"same circuit as the plain addition but going backwards\"\n",
    "    if n == 1:\n",
    "        circuit.cx(qa[0], qb[0])\n",
    "        circuit.ccx(qa[0], qb[0], qb[1])\n",
    "    else:\n",
    "        circuit.cx(qa[0], qb[0])\n",
    "        circuit.ccx(qa[0], qb[0], qc[0])\n",
    "        circuit.cx(qa[0], qb[0])\n",
    "        i_summing(circuit, qc[0], qa[1], qb[1])\n",
    "        for i in range(2,n):\n",
    "            carry(circuit, qc[i-2], qa[i-1], qb[i-1], qc[i-1])\n",
    "            i_summing(circuit, qc[i-1], qa[i], qb[i])\n",
    "        circuit.cx(qa[n-1], qb[n-1])\n",
    "        i_carry(circuit, qc[n-2], qa[n-1], qb[n-1], qb[n])\n",
    "        for i in range(n-3, -1, -1):\n",
    "            i_carry(circuit, qc[i], qa[i+1], qb[i+1], qc[i+1])\n",
    "        circuit.cx(qa[0], qb[0])  \n",
    "        circuit.ccx(qa[0], qb[0], qc[0])\n",
    "        \n",
    "def judge(circuit, qN, qNtemp, qtemp, n):\n",
    "    for i in range(n):\n",
    "        circuit.ccx(qtemp[0],qNtemp[i],qN[i])\n",
    "\n",
    "def judge2(circuit, qN, qNtemp, qtemp, n):\n",
    "    for i in range(n):\n",
    "        circuit.ccx(qtemp,qNtemp[i],qN[i])        \n",
    "        \n",
    "def addition_mod(circuit, qa, qb, qc, qN, qNtemp, qtemp, n):\n",
    "    addition(circuit,qa,qb,qc,n)\n",
    "    i_addition(circuit,qN,qb,qc,n)\n",
    "    \n",
    "    circuit.x(qb[n])\n",
    "    circuit.cx(qb[n], qtemp[0])\n",
    "    circuit.x(qb[n])\n",
    "    \n",
    "    judge(circuit, qN, qNtemp, qtemp, n)\n",
    "    addition(circuit, qN, qb, qc, n)\n",
    "    judge(circuit, qN, qNtemp, qtemp ,n)\n",
    "    \n",
    "    i_addition(circuit,qa,qb,qc,n)\n",
    "    circuit.cx(qb[n], qtemp[0])\n",
    "    addition(circuit,qa,qb,qc,n)\n",
    "    \n",
    "def i_addition_mod(circuit, qa, qb, qc, qN, qNtemp, qtemp, n):\n",
    "    \n",
    "    i_addition(circuit,qa,qb,qc,n)\n",
    "    circuit.cx(qb[n], qtemp[0])\n",
    "    addition(circuit,qa,qb,qc,n)\n",
    "    \n",
    "    judge(circuit, qN, qNtemp, qtemp, n)\n",
    "    i_addition(circuit, qN, qb, qc, n)\n",
    "    judge(circuit, qN, qNtemp, qtemp ,n)\n",
    "\n",
    "    circuit.x(qb[n])\n",
    "    circuit.cx(qb[n], qtemp[0])\n",
    "    circuit.x(qb[n])\n",
    "\n",
    "    addition(circuit,qN,qb,qc,n)\n",
    "    i_addition(circuit,qa,qb,qc,n)\n",
    "    \n",
    "def c_multiple_mod(circuit, qmul, qx, qa, qb, qc, qN, qNadd, qadd, n, a, N):\n",
    "\n",
    "    for j in range(n):\n",
    "        tempa = (a*(2**j))%N\n",
    "        cc_tobit2(circuit, qa, tempa , qmul, qx[j], n)\n",
    "        addition_mod(circuit, qa, qb, qc, qN, qNadd, qadd, n)\n",
    "        cc_tobit2(circuit, qa, tempa , qmul, qx[j], n)\n",
    "    \n",
    "    circuit.x(qmul)\n",
    "    judge2(circuit, qb, qx, qmul, n)\n",
    "    circuit.x(qmul)    \n",
    "    \n",
    "def c_i_multiple_mod(circuit, qmul, qx, qa, qb, qc, qN, qNadd, qadd, n, a, N):\n",
    "    \n",
    "    circuit.x(qmul)\n",
    "    judge2(circuit, qb, qx, qmul, n)\n",
    "    circuit.x(qmul)\n",
    " \n",
    "    for j in range(n-1, -1, -1):\n",
    "        tempa = (a*(2**j))%N\n",
    "        cc_tobit2(circuit, qa, tempa , qmul, qx[j], n)\n",
    "        i_addition_mod(circuit, qa, qb, qc, qN, qNadd, qadd, n)\n",
    "        cc_tobit2(circuit, qa, tempa , qmul, qx[j], n)    "
   ]
  },
  {
   "cell_type": "code",
   "execution_count": 26,
   "metadata": {},
   "outputs": [],
   "source": [
    "# efficient algorithm for computing the modular multiplicative inverse a^-1 mod m\n",
    "def egcd(a,b): \n",
    "    bb = b\n",
    "    u, u1 = 1, 0 \n",
    "    v, v1 = 0, 1 \n",
    "    while b: \n",
    "        q = a // b \n",
    "        u, u1 = u1, u - q * u1 \n",
    "        v, v1 = v1, v - q * v1 \n",
    "        a, b = b, a - q * b\n",
    "    \n",
    "    return u, v, a \n",
    "\n",
    "def modinv(a, m):\n",
    "    u, v, g = egcd(a, m)\n",
    "    if g != 1:\n",
    "        raise Exception('modular inverse does not exist')\n",
    "    else:\n",
    "        return u % m\n",
    "\n",
    "def exponentate_mod(circuit, qy, qx, qa, qb, qc, qN, qNadd, qadd, n, a, N, ny):    \n",
    "    for j in range(ny) :\n",
    "        aa = a**(2**j)%N\n",
    "        c_multiple_mod(circuit, qy[j], qx, qa, qb, qc, qN, qNadd, qadd, n, aa, N)\n",
    "        \n",
    "        temp = qx\n",
    "        qx = qb\n",
    "        qb = temp\n",
    "        \n",
    "        i_aa = modinv(aa,N)\n",
    "        c_i_multiple_mod(circuit, qy[j], qx, qa, qb, qc, qN, qNadd, qadd, n, i_aa, N)"
   ]
  },
  {
   "cell_type": "markdown",
   "metadata": {},
   "source": [
    "Example for $x=3,a=5,N=7$,\n",
    "\n",
    "\\begin{equation}\n",
    "\\vert 3 \\rangle\\vert 1 \\rangle\\rightarrow\\vert 3 \\rangle\\vert 5^3(mod\\;7) \\rangle= \\vert3\\rangle\\vert 6 \\rangle\n",
    "\\end{equation}"
   ]
  },
  {
   "cell_type": "code",
   "execution_count": 27,
   "metadata": {},
   "outputs": [],
   "source": [
    "# we define the values\n",
    "y = 3\n",
    "a = 5              \n",
    "N = 7\n",
    "\n",
    "# computing number of qubits n needed\n",
    "n = len(\"{0:b}\".format(a))\n",
    "n2 = len(\"{0:b}\".format(N))\n",
    "if n2 > n:\n",
    "    n = n2\n",
    "    \n",
    "ny = len(\"{0:b}\".format(y))"
   ]
  },
  {
   "cell_type": "code",
   "execution_count": 28,
   "metadata": {},
   "outputs": [],
   "source": [
    "# classical register with n+1 bits.\n",
    "cb = ClassicalRegister(n+1)\n",
    "#ctemp=ClassicalRegister(1)\n",
    "\n",
    "# quantum registers\n",
    "qy = QuantumRegister(ny)\n",
    "qx = QuantumRegister(n+1)\n",
    "qa = QuantumRegister(n) # a qubits\n",
    "qb = QuantumRegister(n+1) # b qubits\n",
    "qc = QuantumRegister(n-1)\n",
    "qN = QuantumRegister(n+1) # N qubits\n",
    "qNadd = QuantumRegister(n+1) # temporary N qubits\n",
    "qadd = QuantumRegister(1) # temporary qubit\n",
    "\n",
    "modexpc = QuantumCircuit(qy, qx, qa, qb, qc, qN, qNadd, qadd, cb)\n",
    "\n",
    "#On controller\n",
    "#modexpc.x(qx[0])\n",
    "\n",
    "#initial state\n",
    "tobit(modexpc, qy, y, ny)\n",
    "tobit(modexpc, qx, 1, n+1)\n",
    "tobit(modexpc, qN, N, n+1)\n",
    "tobit(modexpc, qNadd, N, n+1)\n",
    "\n",
    "#c_multiple_mod\n",
    "exponentate_mod(modexpc, qy, qx, qa, qb, qc, qN, qNadd, qadd, n, a, N, ny)\n",
    "\n",
    "#qb always zero\n",
    "#qx gives the result\n",
    "for i in range(n+1):\n",
    "    modexpc.measure(qx[i], cb[i])"
   ]
  },
  {
   "cell_type": "code",
   "execution_count": 29,
   "metadata": {},
   "outputs": [
    {
     "data": {
      "image/png": "[encoded data removed]",
      "text/plain": [
       "<Figure size 504x360 with 1 Axes>"
      ]
     },
     "execution_count": 29,
     "metadata": {},
     "output_type": "execute_result"
    }
   ],
   "source": [
    "#choose backend as simulator\n",
    "backend = Aer.get_backend('qasm_simulator')\n",
    "\n",
    "# compile and execute the quantum program in the backend\n",
    "job_exp = execute(modexpc, backend=backend, shots=1).result()\n",
    "\n",
    "# show by histogram\n",
    "counts = job_exp.get_counts(modexpc)\n",
    "plot_histogram(counts)"
   ]
  },
  {
   "cell_type": "markdown",
   "metadata": {},
   "source": [
    "## 2.3 Simulation"
   ]
  },
  {
   "cell_type": "markdown",
   "metadata": {},
   "source": [
    "### 2.3.1 Quantum Computer"
   ]
  },
  {
   "cell_type": "markdown",
   "metadata": {},
   "source": [
    "As quantum computer can't be runned with huge amount of qubits and operators, one of simulation we can do is finding order when $N=3$ and $a=2$.\n",
    "\n",
    "\\begin{equation}\n",
    "2^r\\;(mod\\;3)=1\\;.\n",
    "\\end{equation}"
   ]
  },
  {
   "cell_type": "code",
   "execution_count": 23,
   "metadata": {},
   "outputs": [],
   "source": [
    "#inverse quantum fourier transform with 3 qubits\n",
    "def i_qft(circ,q,n):\n",
    "    \"\"\"n-qubit QFT on q in circ reverse order.\"\"\"\n",
    "    for j in range(n-1,-1,-1):\n",
    "        circ.h(q[j])\n",
    "        for k in range(j-1,-1,-1):\n",
    "            circ.cu1(math.pi/float(-2**(j-k)), q[j], q[k])\n",
    "\n",
    "#hadamanrd gate sets\n",
    "def had(circ,q):\n",
    "    for i in range(3):\n",
    "        circ.h(q[i])"
   ]
  },
  {
   "cell_type": "code",
   "execution_count": 24,
   "metadata": {},
   "outputs": [
    {
     "data": {
      "image/png": "[encoded data removed]",
      "text/plain": [
       "<Figure size 1023.4x499.66 with 1 Axes>"
      ]
     },
     "execution_count": 24,
     "metadata": {},
     "output_type": "execute_result"
    }
   ],
   "source": [
    "\n",
    "n=3\n",
    "na=2\n",
    "q=QuantumRegister(n)\n",
    "a=QuantumRegister(na)\n",
    "c=ClassicalRegister(n)\n",
    "ofc=QuantumCircuit(q,a,c)\n",
    "\n",
    "#initial state for modular qubit sets\n",
    "ofc.x(a[1])\n",
    "\n",
    "#entangled state\n",
    "had(ofc,q)\n",
    "ofc.barrier()\n",
    "\n",
    "#controlled-modulator\n",
    "ofc.cswap(q[0],a[0],a[1])\n",
    "ofc.barrier()\n",
    "\n",
    "#inverse fourier transform\n",
    "i_qft(ofc,q,3)\n",
    "ofc.barrier()\n",
    "\n",
    "##measurment\n",
    "for i in range(3):\n",
    "    ofc.measure(q[i], c[i])\n",
    "    \n",
    "ofc.draw(output='mpl')"
   ]
  },
  {
   "cell_type": "code",
   "execution_count": 25,
   "metadata": {},
   "outputs": [
    {
     "name": "stdout",
     "output_type": "stream",
     "text": [
      "The best backend is ibmq_16_melbourne\n"
     ]
    }
   ],
   "source": [
    "large_enough_devices = IBMQ.backends(filters=lambda x: x.configuration().n_qubits > 4 and\n",
    "                                                       not x.configuration().simulator)\n",
    "backend = least_busy(large_enough_devices)\n",
    "print(\"The best backend is \" + backend.name())"
   ]
  },
  {
   "cell_type": "code",
   "execution_count": 26,
   "metadata": {},
   "outputs": [
    {
     "data": {
      "application/vnd.jupyter.widget-view+json": {
       "model_id": "0d6608325ad94fd4ad955757fba8a05f",
       "version_major": 2,
       "version_minor": 0
      },
      "text/plain": [
       "HTML(value=\"<p style='font-size:16px;'>Job Status: job is being initialized </p>\")"
      ]
     },
     "metadata": {},
     "output_type": "display_data"
    }
   ],
   "source": [
    "shots = 1000            # Number of shots to run the program (experiment); maximum is 8192 shots.\n",
    "max_credits = 3        # Maximum number of credits to spend on executions. \n",
    "\n",
    "job_ofc = execute(ofc,backend=backend,shots=shots, max_credits=max_credits)\n",
    "job_monitor(job_ofc)"
   ]
  },
  {
   "cell_type": "code",
   "execution_count": 54,
   "metadata": {},
   "outputs": [
    {
     "data": {
      "image/png": "[encoded data removed]",
      "text/plain": [
       "<Figure size 504x360 with 1 Axes>"
      ]
     },
     "execution_count": 54,
     "metadata": {},
     "output_type": "execute_result"
    }
   ],
   "source": [
    "result_ofc = job_ofc.result()\n",
    "plot_histogram(result_ofc.get_counts())"
   ]
  },
  {
   "cell_type": "code",
   "execution_count": 37,
   "metadata": {},
   "outputs": [
    {
     "data": {
      "image/png": "[encoded data removed]",
      "text/plain": [
       "<Figure size 504x360 with 1 Axes>"
      ]
     },
     "execution_count": 37,
     "metadata": {},
     "output_type": "execute_result"
    }
   ],
   "source": [
    "#choose backend as simulator\n",
    "backend = Aer.get_backend('qasm_simulator')\n",
    "\n",
    "# compile and execute the quantum program in the backend\n",
    "sim_ofc = execute(ofc, backend=backend, shots=100).result()\n",
    "\n",
    "# show by histogram\n",
    "counts = sim_ofc.get_counts(ofc)\n",
    "plot_histogram(counts)"
   ]
  },
  {
   "cell_type": "markdown",
   "metadata": {},
   "source": [
    "As qubits means $0.q_1 q_2 q_3$, the result $\\widetilde{s/r}$ is $0$ or $\\frac{1}{2}$. So,\n",
    "\n",
    "\\begin{equation}\n",
    "x^r(mod\\;N)=2^2(mod\\;3)=1.\n",
    "\\end{equation}"
   ]
  },
  {
   "cell_type": "markdown",
   "metadata": {},
   "source": [
    "### 2.3.2 Local classical computer\n",
    "\n",
    "The maximal size of qubits for $N$ can be used in qiskit is 3. Here, we give an example for $N=6$, $a=5$. "
   ]
  },
  {
   "cell_type": "code",
   "execution_count": 47,
   "metadata": {},
   "outputs": [],
   "source": [
    "# we define the values\n",
    "ny = 3\n",
    "a = 5              \n",
    "N = 6\n",
    "\n",
    "# computing number of qubits n needed\n",
    "n = len(\"{0:b}\".format(a))\n",
    "n2 = len(\"{0:b}\".format(N))\n",
    "if n2 > n:\n",
    "    n = n2"
   ]
  },
  {
   "cell_type": "code",
   "execution_count": 48,
   "metadata": {},
   "outputs": [],
   "source": [
    "# classical register with n+1 bits.\n",
    "cy = ClassicalRegister(ny)\n",
    "#ctemp=ClassicalRegister(1)\n",
    "\n",
    "# quantum registers\n",
    "qy = QuantumRegister(ny)\n",
    "qx = QuantumRegister(n+1)\n",
    "qa = QuantumRegister(n) # a qubits\n",
    "qb = QuantumRegister(n+1) # b qubits\n",
    "qc = QuantumRegister(n-1)\n",
    "qN = QuantumRegister(n+1) # N qubits\n",
    "qNadd = QuantumRegister(n+1) # temporary N qubits\n",
    "qadd = QuantumRegister(1) # temporary qubit\n",
    "\n",
    "shor_circuit = QuantumCircuit(qy, qx, qa, qb, qc, qN, qNadd, qadd, cy)\n",
    "\n",
    "#initial state\n",
    "tobit(shor_circuit, qx, 1, n+1)\n",
    "tobit(shor_circuit, qN, N, n+1)\n",
    "tobit(shor_circuit, qNadd, N, n+1)\n",
    "\n",
    "#hadamard gates for all qy qubits set \n",
    "for i in range(ny):\n",
    "    shor_circuit.h(qy[i])    \n",
    "\n",
    "#c_multiple_mod\n",
    "exponentate_mod(shor_circuit, qy, qx, qa, qb, qc, qN, qNadd, qadd, n, a, N, ny)\n",
    "\n",
    "#Fourier Transform\n",
    "i_qft(shor_circuit,qy,ny)\n",
    "\n",
    "#qx gives the result\n",
    "for i in range(ny):\n",
    "    shor_circuit.measure(qy[i], cy[i])"
   ]
  },
  {
   "cell_type": "code",
   "execution_count": 49,
   "metadata": {},
   "outputs": [
    {
     "data": {
      "image/png": "[encoded data removed]",
      "text/plain": [
       "<Figure size 504x360 with 1 Axes>"
      ]
     },
     "execution_count": 49,
     "metadata": {},
     "output_type": "execute_result"
    }
   ],
   "source": [
    "#choose backend as simulator\n",
    "backend = Aer.get_backend('qasm_simulator')\n",
    "\n",
    "# compile and execute the quantum program in the backend\n",
    "job_add = execute(shor_circuit, backend=backend, shots=10).result()\n",
    "\n",
    "# show by histogram\n",
    "counts = job_add.get_counts(shor_circuit)\n",
    "plot_histogram(counts)"
   ]
  },
  {
   "cell_type": "markdown",
   "metadata": {},
   "source": [
    "As $r=2$, we can see one of factor of 6 is $GCD(5^{2/2}-1,6)=2$."
   ]
  },
  {
   "cell_type": "code",
   "execution_count": null,
   "metadata": {},
   "outputs": [],
   "source": []
  }
 ],
 "metadata": {
  "kernelspec": {
   "display_name": "Python 3",
   "language": "python",
   "name": "python3"
  },
  "language_info": {
   "codemirror_mode": {
    "name": "ipython",
    "version": 3
   },
   "file_extension": ".py",
   "mimetype": "text/x-python",
   "name": "python",
   "nbconvert_exporter": "python",
   "pygments_lexer": "ipython3",
   "version": "3.7.4"
  }
 },
 "nbformat": 4,
 "nbformat_minor": 2
}
