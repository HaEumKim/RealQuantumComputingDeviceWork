{
 "cells": [
  {
   "cell_type": "markdown",
   "metadata": {},
   "source": [
    "## IBM Quantum Computers\n",
    "\n",
    "아래의 사진들은 양자 컴퓨터의 외관과 내관입니다."
   ]
  },
  {
   "cell_type": "markdown",
   "metadata": {},
   "source": [
    "<div>\n",
    "<img src=\"https://iqx-docs.quantum-computing.ibm.com/_images/sys-one2.jpg\" width=\"500\"/>\n",
    "</div>"
   ]
  },
  {
   "cell_type": "markdown",
   "metadata": {},
   "source": [
    "<div>\n",
    "<img src=\"https://user-images.githubusercontent.com/529049/66485044-a292c600-ea97-11e9-9696-b3a6606458ba.jpg\" width=\"500\"/>\n",
    "</div>"
   ]
  },
  {
   "cell_type": "markdown",
   "metadata": {},
   "source": [
    "<div>\n",
    "<img src=\"https://github.com/Qiskit/ibmq-device-information/raw/master/backends/yorktown/images/ibmqx2-labeled.png?raw=true\" width=\"500\"/>\n",
    "</div>"
   ]
  },
  {
   "cell_type": "markdown",
   "metadata": {},
   "source": [
    "그러면 우리는 이 양자 컴퓨터를 어떻게 사용할 수 있을까요?"
   ]
  },
  {
   "cell_type": "markdown",
   "metadata": {},
   "source": [
    "<div>\n",
    "<img src=\"https://iqx-docs.quantum-computing.ibm.com/_images/qiskit-nb.jpg\" width=\"500\"/>\n",
    "</div>"
   ]
  },
  {
   "cell_type": "markdown",
   "metadata": {},
   "source": [
    "<div>\n",
    "<img src=\"https://iqx-docs.quantum-computing.ibm.com/_images/normal_queue_with_providers2.png\" width=\"800\"/>\n",
    "</div>"
   ]
  },
  {
   "cell_type": "markdown",
   "metadata": {},
   "source": [
    "이제 본격적으로 양자 컴퓨터를 이용해보도록 해요. 먼저 양자 컴퓨터에 입력할 코드를 짜는 과정에 대해서 살펴보고, 그 이후에 양자 컴퓨터에 코드를 전송하고 작동하여 출력받은 결과값을 보도록 하겠습니다. 여기서 살펴볼 양자 코드는 양자 위상 추정 알고리즘(quantum phase estimation algorithm)입니다."
   ]
  },
  {
   "cell_type": "markdown",
   "metadata": {},
   "source": [
    "## Import Package\n",
    "\n",
    "저번 시간에 양자 컴퓨터를 각자 집에서 사용할 수 있도록 qiskit을 설치했을겁니다. 아래의 코드는 전체 패키지 중에서 오늘 사용할 명령어를 켜는 과정입니다."
   ]
  },
  {
   "cell_type": "code",
   "execution_count": 2,
   "metadata": {},
   "outputs": [],
   "source": [
    "#qiskit 이외의 패키지\n",
    "import numpy as np\n",
    "import math\n",
    "\n",
    "#qiskit 패키지에서 사용할 명령어 \n",
    "#회로를 구성하는데 사용하는 명령어\n",
    "from qiskit import QuantumCircuit, ClassicalRegister, QuantumRegister\n",
    "#IBM에서 제공하는 양자컴퓨터를 사용하는데 필요한 명령어\n",
    "from qiskit import IBMQ, transpile, assemble\n",
    "from qiskit.providers.ibmq import least_busy\n",
    "from qiskit.tools.monitor import job_monitor\n",
    "\n",
    "#결과값을 분석하기 위한 명령어\n",
    "from qiskit.visualization import plot_histogram"
   ]
  },
  {
   "cell_type": "markdown",
   "metadata": {},
   "source": [
    "## 양자 위상 추정 알고리즘 (quantum phase estimation algorithm)\n",
    "\n",
    "양자역학에서 관측은 어떻게 이루어질까요? 아래의 그림은 스핀을 관측기로 관측하는 모습을 도식적으로 그린 그림입니다."
   ]
  },
  {
   "cell_type": "markdown",
   "metadata": {},
   "source": [
    "<div>\n",
    "<img src=\"Von_Neumann_Measurement.png\" width=\"500\"/>\n",
    "</div>"
   ]
  },
  {
   "cell_type": "markdown",
   "metadata": {},
   "source": [
    "간단하게 측정 계기판과 스핀은 \n",
    "\n",
    "$\\begin{align}\n",
    "\\hat{H} := \\frac{E}{2} \\hat{p} \\otimes \\left(\n",
    "\\hat{\\sigma}_0-\\hat{\\sigma}_z\n",
    "\\right)\n",
    "=E \\; \\hat{p} \\otimes \\mathinner{\\lvert{1}\\rangle}\\mathinner{\\langle{1}\\lvert}\n",
    "\\end{align}$\n",
    "\n",
    "의 해밀토니안으로 서로 상호작용을 이루고 있는 상황을 가정합니다. 초기$(t=0)$에 측정 계기판의 양자상태는 위치 연산자 $\\hat{x}$의 고유상태 $\\mathinner{\\lvert{x}\\rangle}$, 스핀은 임의의 상태\n",
    "\n",
    "$\\begin{align}\n",
    "\\mathinner{\\lvert{\\psi}\\rangle}:=\\alpha\\mathinner{\\lvert{0}\\rangle}+\\beta\\mathinner{\\lvert{1}\\rangle}\n",
    "\\end{align}$\n",
    "\n",
    "로 준비하여 전체 공간에서의 초기상태는\n",
    "\n",
    "$\\begin{align}\n",
    "\\mathinner{\\lvert{\\Psi(0)}\\rangle}:=\\mathinner{\\lvert{x}\\rangle}\\otimes\\mathinner{\\lvert{\\psi}\\rangle}\n",
    "\\end{align}$\n",
    "\n",
    "로 나타내집니다. 측정 계기판은 위치의 기댓값 $\\langle\\hat{x}\\rangle$을 관측하며, 여기서 위치 연산자 $\\hat{x}$와 운동량 연산자$\\hat{p}$와\n",
    "\n",
    "$\\begin{align}\n",
    "\\left[\\hat{x},\\hat{p}\\right]=i\\hbar\n",
    "\\end{align}$\n",
    "\n",
    "의 관계를 이룹니다."
   ]
  },
  {
   "cell_type": "markdown",
   "metadata": {},
   "source": [
    "시간이 $t$만큼 흐른 이후에 상태는\n",
    "\n",
    "$\\begin{align}\n",
    "\\mathinner{\\lvert{\\Psi(t)}\\rangle}&=\\mathrm{exp}\\left[\\frac{i\\hat{H}t}{\\hbar}\\right]\\mathinner{\\lvert{\\Psi(0)}\\rangle}\\\\\n",
    "&=\\mathrm{exp}\\left[i\\theta \\hat{p} \\otimes \\mathinner{\\lvert{1}\\rangle}\\mathinner{\\langle{1}\\lvert})\\right]\n",
    "(\\mathinner{\\lvert{x}\\rangle}\\otimes\\mathinner{\\lvert{\\psi}\\rangle})\n",
    "\\;\\;;\\;\\;\\theta=\\frac{E t}{\\hbar}.\n",
    "\\end{align}$\n",
    "\n",
    "측정 계기판의 상태를 운동량 공간에서 표현하면\n",
    "\n",
    "$\\begin{align}\n",
    "\\mathinner{\\lvert{\\Psi(t)}\\rangle}&=\n",
    "\\mathrm{exp}\\left[i\\theta \\hat{p} \\otimes \\mathinner{\\lvert{1}\\rangle}\\mathinner{\\langle{1}\\lvert})\\right]\n",
    "\\left\\{\\sum_p\\mathrm{exp}\\left[ipx\\right]\\mathinner{\\lvert{\\tilde{p}}\\rangle}\n",
    "\\otimes(\\alpha\\mathinner{\\lvert{0}\\rangle}+\\beta\\mathinner{\\lvert{1}\\rangle})\\right\\}\\\\\n",
    "&=\\mathrm{exp}\\left[i\\theta \\hat{p} \\otimes \\mathinner{\\lvert{1}\\rangle}\\mathinner{\\langle{1}\\lvert})\\right]\n",
    "\\left\\{\\alpha\\sum_p\\mathrm{exp}\\left[ipx\\right]\\mathinner{\\lvert{\\tilde{p}}\\rangle}\n",
    "\\otimes\\mathinner{\\lvert{0}\\rangle}+\\beta\\sum_p\\mathrm{exp}\\left[ipx\\right]\\mathinner{\\lvert{\\tilde{p}}\\rangle}\n",
    "\\otimes\\mathinner{\\lvert{1}\\rangle})\\right\\}\\\\\n",
    "&=\\alpha\\sum_p\\mathrm{exp}\\left[ipx\\right]\\mathinner{\\lvert{\\tilde{p}}\\rangle}\n",
    "\\otimes\\mathinner{\\lvert{0}\\rangle}\n",
    "+\\beta\\sum_p\\mathrm{exp}\\left[ip(x+\\theta)\\right]\\mathinner{\\lvert{\\tilde{p}}\\rangle}\n",
    "\\otimes\\mathinner{\\lvert{1}\\rangle}.\n",
    "\\end{align}$\n",
    "\n",
    "다시 측정 계기판의 상태를 위치 공간에서 나타내게 되면\n",
    "\n",
    "$\\begin{align}\n",
    "\\mathinner{\\lvert{\\Psi(t)}\\rangle}=\n",
    "\\alpha\\mathinner{\\lvert{x}\\rangle}\n",
    "\\otimes\\mathinner{\\lvert{0}\\rangle}\n",
    "+\\beta\\mathinner{\\lvert{x+\\theta}\\rangle}\n",
    "\\otimes\\mathinner{\\lvert{1}\\rangle}.\n",
    "\\end{align}$\n",
    "\n",
    "시간 $t$ 만큼 지난 이후의 상태를 보면 만약 초기에 스핀이 0의 상태로 준비되었다면$(\\alpha=1,\\beta=0)$ 측정값은 $x$가 나오게 됩니다:\n",
    "\n",
    "$\\begin{align}\n",
    "\\mathinner{\\langle\\Psi(t)\\lvert{}}\\hat{x}\\mathinner{\\lvert{\\Psi(t)}\\rangle}=\\mathinner{\\langle x\\lvert{}}\\hat{x}\\mathinner{\\lvert{x}\\rangle}\n",
    "\\otimes\\mathinner{\\langle 0}\\mathinner{\\lvert{0}\\rangle}=x.\n",
    "\\end{align}$\n",
    "\n",
    "그에 반해 초기에 스핀이 1의 상태로 준비되었다면$(\\alpha=0,\\beta=1)$ 측정값은 $x+\\theta$로 처음과 다르게 이동된 값으로 나오게 됩니다:\n",
    "\n",
    "$\\begin{align}\n",
    "\\mathinner{\\langle\\Psi(t)\\lvert{}}\\hat{x}\\mathinner{\\lvert{\\Psi(t)}\\rangle}=\\mathinner{\\langle x+\\theta\\lvert{}}\\hat{x}\\mathinner{\\lvert{x+\\theta}\\rangle}\n",
    "\\otimes\\mathinner{\\langle 1}\\mathinner{\\lvert{1}\\rangle}=x+\\theta.\n",
    "\\end{align}$"
   ]
  },
  {
   "cell_type": "markdown",
   "metadata": {},
   "source": [
    "<div>\n",
    "<img src=\"Ditection_Graph.png\" width=\"600\"/>\n",
    "</div>"
   ]
  },
  {
   "cell_type": "markdown",
   "metadata": {},
   "source": [
    "이 관측 방법을 이용하여 양자 회로로 구현한 알고리즘이 양자 위상 추정 알고리즘(quantum phase estimation algorithm)입니다."
   ]
  },
  {
   "cell_type": "markdown",
   "metadata": {},
   "source": [
    "<div>\n",
    "<img src=\"https://qiskit.org/textbook/ch-algorithms/images/qpe_tex_qz.png\" width=\"800\"/>\n",
    "</div>"
   ]
  },
  {
   "cell_type": "markdown",
   "metadata": {},
   "source": [
    "1 구간에서는 관측하는 큐빗들을 푸리에 변환을 시행하고, 2 구간에서 관측하고 싶은 큐빗과 상호작용을 이루고, 3 구간에서 푸리에 역변환을 시행하고, 4 구간에서 관측을 행합니다. 이 때, 나오는 각각의 큐빗에 대한 관측값은 각 이진법 자릿수의 값이 됩니다. "
   ]
  },
  {
   "cell_type": "markdown",
   "metadata": {},
   "source": [
    "우리 예제에서는 \n",
    "$U=\\mathinner{\\lvert{0}\\rangle}\\mathinner{\\langle{0}\\lvert}+e^{\\frac{i\\pi}{4}}\\mathinner{\\lvert{1}\\rangle}\\mathinner{\\langle{1}\\lvert}$와 그에 해당하는 고유상태 $\\mathinner{\\lvert{\\psi}\\rangle}=\\mathinner{\\lvert{1}\\rangle}$으로 정의합니다. 이 때 고유값의 위상 $\\theta$은 $\\frac{1}{8}$이 됩니다. "
   ]
  },
  {
   "cell_type": "markdown",
   "metadata": {},
   "source": [
    "qiskit을 이용하여 이 회로를 짜보자."
   ]
  },
  {
   "cell_type": "code",
   "execution_count": 3,
   "metadata": {},
   "outputs": [
    {
     "data": {
      "text/html": [
       "<pre style=\"word-wrap: normal;white-space: pre;background: #fff0;line-height: 1.1;font-family: &quot;Courier New&quot;,Courier,monospace\">          \n",
       "q_0: ─────\n",
       "          \n",
       "q_1: ─────\n",
       "          \n",
       "q_2: ─────\n",
       "     ┌───┐\n",
       "q_3: ┤ X ├\n",
       "     └───┘\n",
       "c: 3/═════\n",
       "          </pre>"
      ],
      "text/plain": [
       "          \n",
       "q_0: ─────\n",
       "          \n",
       "q_1: ─────\n",
       "          \n",
       "q_2: ─────\n",
       "     ┌───┐\n",
       "q_3: ┤ X ├\n",
       "     └───┘\n",
       "c: 3/═════\n",
       "          "
      ]
     },
     "execution_count": 3,
     "metadata": {},
     "output_type": "execute_result"
    }
   ],
   "source": [
    "#4개의 큐빗과 3개의 고전 비트로 이루어진 회로 생성\n",
    "qpe = QuantumCircuit(4, 3)\n",
    "#q(3)에 x 게이트 연결\n",
    "qpe.x(3)\n",
    "qpe.draw()"
   ]
  },
  {
   "cell_type": "code",
   "execution_count": 4,
   "metadata": {},
   "outputs": [
    {
     "data": {
      "text/html": [
       "<pre style=\"word-wrap: normal;white-space: pre;background: #fff0;line-height: 1.1;font-family: &quot;Courier New&quot;,Courier,monospace\">     ┌───┐\n",
       "q_0: ┤ H ├\n",
       "     ├───┤\n",
       "q_1: ┤ H ├\n",
       "     ├───┤\n",
       "q_2: ┤ H ├\n",
       "     ├───┤\n",
       "q_3: ┤ X ├\n",
       "     └───┘\n",
       "c: 3/═════\n",
       "          </pre>"
      ],
      "text/plain": [
       "     ┌───┐\n",
       "q_0: ┤ H ├\n",
       "     ├───┤\n",
       "q_1: ┤ H ├\n",
       "     ├───┤\n",
       "q_2: ┤ H ├\n",
       "     ├───┤\n",
       "q_3: ┤ X ├\n",
       "     └───┘\n",
       "c: 3/═════\n",
       "          "
      ]
     },
     "execution_count": 4,
     "metadata": {},
     "output_type": "execute_result"
    }
   ],
   "source": [
    "#q(1-1)부터 q(3-1)까지 하다마드 게이트 연결\n",
    "for qubit in range(3):\n",
    "    qpe.h(qubit)\n",
    "qpe.draw()"
   ]
  },
  {
   "cell_type": "code",
   "execution_count": 5,
   "metadata": {},
   "outputs": [
    {
     "data": {
      "text/html": [
       "<pre style=\"word-wrap: normal;white-space: pre;background: #fff0;line-height: 1.1;font-family: &quot;Courier New&quot;,Courier,monospace\">     ┌───┐                                                               \n",
       "q_0: ┤ H ├─■─────────────────────────────────────────────────────────────\n",
       "     ├───┤ │                                                             \n",
       "q_1: ┤ H ├─┼────────■────────■───────────────────────────────────────────\n",
       "     ├───┤ │        │        │                                           \n",
       "q_2: ┤ H ├─┼────────┼────────┼────────■────────■────────■────────■───────\n",
       "     ├───┤ │P(π/4)  │P(π/4)  │P(π/4)  │P(π/4)  │P(π/4)  │P(π/4)  │P(π/4) \n",
       "q_3: ┤ X ├─■────────■────────■────────■────────■────────■────────■───────\n",
       "     └───┘                                                               \n",
       "c: 3/════════════════════════════════════════════════════════════════════\n",
       "                                                                         </pre>"
      ],
      "text/plain": [
       "     ┌───┐                                                               \n",
       "q_0: ┤ H ├─■─────────────────────────────────────────────────────────────\n",
       "     ├───┤ │                                                             \n",
       "q_1: ┤ H ├─┼────────■────────■───────────────────────────────────────────\n",
       "     ├───┤ │        │        │                                           \n",
       "q_2: ┤ H ├─┼────────┼────────┼────────■────────■────────■────────■───────\n",
       "     ├───┤ │P(π/4)  │P(π/4)  │P(π/4)  │P(π/4)  │P(π/4)  │P(π/4)  │P(π/4) \n",
       "q_3: ┤ X ├─■────────■────────■────────■────────■────────■────────■───────\n",
       "     └───┘                                                               \n",
       "c: 3/════════════════════════════════════════════════════════════════════\n",
       "                                                                         "
      ]
     },
     "execution_count": 5,
     "metadata": {},
     "output_type": "execute_result"
    }
   ],
   "source": [
    "#초기 반복 변수\n",
    "repetitions = 1\n",
    "#상대 위상 연산자의 위상 설정\n",
    "angle = 1*math.pi/4\n",
    "\n",
    "#q(0)은 소숫점 1의 자리, q(1)은 소숫점 2의 자리, q(2)은 소숫점 3의 자리가 되게 컨트롤 U 게이트들을 연결\n",
    "for counting_qubit in range(3):\n",
    "    for i in range(repetitions):\n",
    "        qpe.cp(angle, counting_qubit, 3); # This is C-U\n",
    "    repetitions *= 2\n",
    "qpe.draw()"
   ]
  },
  {
   "cell_type": "code",
   "execution_count": 6,
   "metadata": {},
   "outputs": [],
   "source": [
    "# 양자 푸리에 역변환 회로 정의\n",
    "def qft_dagger(qc, n):\n",
    "    for qubit in range(n//2):\n",
    "        qc.swap(qubit, n-qubit-1)\n",
    "    for j in range(n):\n",
    "        for m in range(j):\n",
    "            qc.cp(-math.pi/float(2**(j-m)), m, j)\n",
    "        qc.h(j)"
   ]
  },
  {
   "cell_type": "code",
   "execution_count": 7,
   "metadata": {},
   "outputs": [],
   "source": [
    "#분할선 표시\n",
    "qpe.barrier()\n",
    "# 양자 푸리에 역변환 회로 연결\n",
    "qft_dagger(qpe, 3)\n",
    "\n",
    "#분할선 표시\n",
    "qpe.barrier()\n",
    "# q(1-1)부터 q(3-1)까지 측정 장비 연결\n",
    "for n in range(3):\n",
    "    qpe.measure(n,n)"
   ]
  },
  {
   "cell_type": "code",
   "execution_count": 8,
   "metadata": {},
   "outputs": [
    {
     "data": {
      "text/html": [
       "<pre style=\"word-wrap: normal;white-space: pre;background: #fff0;line-height: 1.1;font-family: &quot;Courier New&quot;,Courier,monospace\">     ┌───┐                                                                ░    »\n",
       "q_0: ┤ H ├─■──────────────────────────────────────────────────────────────░──X─»\n",
       "     ├───┤ │                                                              ░  │ »\n",
       "q_1: ┤ H ├─┼────────■────────■────────────────────────────────────────────░──┼─»\n",
       "     ├───┤ │        │        │                                            ░  │ »\n",
       "q_2: ┤ H ├─┼────────┼────────┼────────■────────■────────■────────■────────░──X─»\n",
       "     ├───┤ │P(π/4)  │P(π/4)  │P(π/4)  │P(π/4)  │P(π/4)  │P(π/4)  │P(π/4)  ░    »\n",
       "q_3: ┤ X ├─■────────■────────■────────■────────■────────■────────■────────░────»\n",
       "     └───┘                                                                ░    »\n",
       "c: 3/══════════════════════════════════════════════════════════════════════════»\n",
       "                                                                               »\n",
       "«     ┌───┐                                         ░ ┌─┐      \n",
       "«q_0: ┤ H ├─■──────────────■────────────────────────░─┤M├──────\n",
       "«     └───┘ │P(-π/2) ┌───┐ │                        ░ └╥┘┌─┐   \n",
       "«q_1: ──────■────────┤ H ├─┼─────────■──────────────░──╫─┤M├───\n",
       "«                    └───┘ │P(-π/4)  │P(-π/2) ┌───┐ ░  ║ └╥┘┌─┐\n",
       "«q_2: ─────────────────────■─────────■────────┤ H ├─░──╫──╫─┤M├\n",
       "«                                             └───┘ ░  ║  ║ └╥┘\n",
       "«q_3: ──────────────────────────────────────────────░──╫──╫──╫─\n",
       "«                                                   ░  ║  ║  ║ \n",
       "«c: 3/═════════════════════════════════════════════════╩══╩══╩═\n",
       "«                                                      0  1  2 </pre>"
      ],
      "text/plain": [
       "     ┌───┐                                                                ░    »\n",
       "q_0: ┤ H ├─■──────────────────────────────────────────────────────────────░──X─»\n",
       "     ├───┤ │                                                              ░  │ »\n",
       "q_1: ┤ H ├─┼────────■────────■────────────────────────────────────────────░──┼─»\n",
       "     ├───┤ │        │        │                                            ░  │ »\n",
       "q_2: ┤ H ├─┼────────┼────────┼────────■────────■────────■────────■────────░──X─»\n",
       "     ├───┤ │P(π/4)  │P(π/4)  │P(π/4)  │P(π/4)  │P(π/4)  │P(π/4)  │P(π/4)  ░    »\n",
       "q_3: ┤ X ├─■────────■────────■────────■────────■────────■────────■────────░────»\n",
       "     └───┘                                                                ░    »\n",
       "c: 3/══════════════════════════════════════════════════════════════════════════»\n",
       "                                                                               »\n",
       "«     ┌───┐                                         ░ ┌─┐      \n",
       "«q_0: ┤ H ├─■──────────────■────────────────────────░─┤M├──────\n",
       "«     └───┘ │P(-π/2) ┌───┐ │                        ░ └╥┘┌─┐   \n",
       "«q_1: ──────■────────┤ H ├─┼─────────■──────────────░──╫─┤M├───\n",
       "«                    └───┘ │P(-π/4)  │P(-π/2) ┌───┐ ░  ║ └╥┘┌─┐\n",
       "«q_2: ─────────────────────■─────────■────────┤ H ├─░──╫──╫─┤M├\n",
       "«                                             └───┘ ░  ║  ║ └╥┘\n",
       "«q_3: ──────────────────────────────────────────────░──╫──╫──╫─\n",
       "«                                                   ░  ║  ║  ║ \n",
       "«c: 3/═════════════════════════════════════════════════╩══╩══╩═\n",
       "«                                                      0  1  2 "
      ]
     },
     "execution_count": 8,
     "metadata": {},
     "output_type": "execute_result"
    }
   ],
   "source": [
    "qpe.draw()"
   ]
  },
  {
   "cell_type": "markdown",
   "metadata": {},
   "source": [
    "양자 컴퓨터는 이 회로를 어떻게 연산하고 처리할까요?"
   ]
  },
  {
   "cell_type": "markdown",
   "metadata": {},
   "source": [
    "<div>\n",
    "<img src=\"https://iqx-docs.quantum-computing.ibm.com/_images/fixed_single_circuit2.png\" width=\"800\"/>\n",
    "</div>"
   ]
  },
  {
   "cell_type": "markdown",
   "metadata": {},
   "source": [
    "<div>\n",
    "<img src=\"https://iqx-docs.quantum-computing.ibm.com/_images/fixed_batch_circuit2.png\" width=\"800\"/>\n",
    "</div>"
   ]
  },
  {
   "cell_type": "markdown",
   "metadata": {},
   "source": [
    "## Provider & Backend\n",
    "\n",
    "우선 계정을 qiskit 내장 저장 장치에 입력해놓는다 :"
   ]
  },
  {
   "cell_type": "code",
   "execution_count": 8,
   "metadata": {},
   "outputs": [],
   "source": [
    "IBMQ.save_account('your_account',overwrite=True)"
   ]
  },
  {
   "cell_type": "code",
   "execution_count": 9,
   "metadata": {},
   "outputs": [
    {
     "data": {
      "text/plain": [
       "<AccountProvider for IBMQ(hub='ibm-q', group='open', project='main')>"
      ]
     },
     "execution_count": 9,
     "metadata": {},
     "output_type": "execute_result"
    }
   ],
   "source": [
    "IBMQ.load_account()"
   ]
  },
  {
   "cell_type": "markdown",
   "metadata": {},
   "source": [
    "IBM에서 각각의 계정이 사용할 수 있는 양자 컴퓨터를 관리하는 방법을 축약해서 설명한 그림은 아래와 같습니다 :"
   ]
  },
  {
   "cell_type": "markdown",
   "metadata": {},
   "source": [
    "![hub_group_project](https://iqx-docs.quantum-computing.ibm.com/_images/providers2.png)"
   ]
  },
  {
   "cell_type": "markdown",
   "metadata": {},
   "source": [
    "## Simulation"
   ]
  },
  {
   "cell_type": "code",
   "execution_count": 10,
   "metadata": {},
   "outputs": [],
   "source": [
    "provider=IBMQ.get_provider(hub='ibm-q', group='open', project='main')"
   ]
  },
  {
   "cell_type": "code",
   "execution_count": 11,
   "metadata": {},
   "outputs": [
    {
     "name": "stdout",
     "output_type": "stream",
     "text": [
      "ibmq_qasm_simulator\n",
      "ibmqx2\n",
      "ibmq_16_melbourne\n",
      "ibmq_armonk\n",
      "ibmq_athens\n",
      "ibmq_santiago\n",
      "ibmq_lima\n",
      "ibmq_belem\n",
      "ibmq_quito\n",
      "simulator_statevector\n",
      "simulator_mps\n",
      "simulator_extended_stabilizer\n",
      "simulator_stabilizer\n",
      "ibmq_manila\n"
     ]
    }
   ],
   "source": [
    "for backend in provider.backends():\n",
    "        print(backend)"
   ]
  },
  {
   "cell_type": "code",
   "execution_count": 12,
   "metadata": {},
   "outputs": [
    {
     "data": {
      "text/plain": [
       "<IBMQSimulator('ibmq_qasm_simulator') from IBMQ(hub='ibm-q', group='open', project='main')>"
      ]
     },
     "execution_count": 12,
     "metadata": {},
     "output_type": "execute_result"
    }
   ],
   "source": [
    "backend_sim = provider.get_backend('ibmq_qasm_simulator')\n",
    "backend_sim"
   ]
  },
  {
   "cell_type": "code",
   "execution_count": 13,
   "metadata": {},
   "outputs": [
    {
     "name": "stderr",
     "output_type": "stream",
     "text": [
      "C:\\Users\\hekim\\miniconda3\\envs\\qiskit_env\\lib\\site-packages\\qiskit\\providers\\ibmq\\ibmqbackend.py:814: DeprecationWarning: Passing a Qobj to Backend.run is deprecated and will be removed in a future release. Please pass in circuits or pulse schedules instead.\n",
      "  return super().run(circuits, job_name=job_name, job_share_level=job_share_level,\n"
     ]
    },
    {
     "name": "stdout",
     "output_type": "stream",
     "text": [
      "Job Status: job has successfully run\n"
     ]
    }
   ],
   "source": [
    "# 같은 회로로 실행할 총 횟수 설정\n",
    "shots = 2048\n",
    "# 회로 코드를 선택한 장비의 언어로 변환\n",
    "t_qpe = transpile(qpe, backend_sim)\n",
    "#변환된 코드를 장비에 입력\n",
    "qobj = assemble(t_qpe, shots=shots)\n",
    "#작업 실행\n",
    "job = backend_sim.run(qobj)\n",
    "#작업 진행 과정 표시\n",
    "job_monitor(job)"
   ]
  },
  {
   "cell_type": "code",
   "execution_count": 14,
   "metadata": {},
   "outputs": [
    {
     "data": {
      "image/png": "[encoded data removed]",
      "text/plain": [
       "<Figure size 700x500 with 1 Axes>"
      ]
     },
     "execution_count": 14,
     "metadata": {},
     "output_type": "execute_result"
    }
   ],
   "source": [
    "#측정 결과값 출력\n",
    "results = job.result()\n",
    "#개수로 변환\n",
    "answer = results.get_counts(qpe)\n",
    "#히스토그램으로 표시\n",
    "plot_histogram(answer)"
   ]
  },
  {
   "cell_type": "markdown",
   "metadata": {},
   "source": [
    "이론과 동일하게 위상은 0*(0.5)+0*(0.25)+1*(0.125)=0.125으로 관측되어진다."
   ]
  },
  {
   "cell_type": "markdown",
   "metadata": {},
   "source": [
    "## Real Device"
   ]
  },
  {
   "cell_type": "markdown",
   "metadata": {},
   "source": [
    "사용할 수 있는 양자 컴퓨터들의 정보는 IBM 양자계산 홈페이지(https://quantum-computing.ibm.com/services?systems=yours)에서 확인할 수 있다. 수업에서 우선 순위로 제공받은 양자 컴퓨터들은 아래의 5가지이다:\n",
    "\n",
    "    -ibmq_bogota      ( 5 qubits, 32 quantum volume)\n",
    "    -ibmq_casablanca  ( 7 qubits, 32 quantum volume)\n",
    "    -ibmq_jakarta     ( 7 qubits, 16 quantum volume)\n",
    "    -ibmq_rome        ( 5 qubits, 32 quantum volume)\n",
    "    -ibmq_toronto     (27 qubits, 32 quantum volume)"
   ]
  },
  {
   "cell_type": "code",
   "execution_count": 15,
   "metadata": {},
   "outputs": [],
   "source": [
    "provider=IBMQ.get_provider(hub='ibm-q-skku', group='internal', project='reservations')"
   ]
  },
  {
   "cell_type": "code",
   "execution_count": 16,
   "metadata": {},
   "outputs": [
    {
     "name": "stdout",
     "output_type": "stream",
     "text": [
      "ibmq_rome\n",
      "ibmq_toronto\n",
      "ibmq_bogota\n",
      "ibmq_casablanca\n",
      "ibmq_jakarta\n"
     ]
    }
   ],
   "source": [
    "for backend in provider.backends():\n",
    "        print(backend)"
   ]
  },
  {
   "cell_type": "code",
   "execution_count": 16,
   "metadata": {},
   "outputs": [
    {
     "name": "stdout",
     "output_type": "stream",
     "text": [
      "least busy backend:  ibmq_jakarta\n"
     ]
    },
    {
     "data": {
      "text/plain": [
       "<IBMQBackend('ibmq_jakarta') from IBMQ(hub='ibm-q-skku', group='internal', project='reservations')>"
      ]
     },
     "execution_count": 16,
     "metadata": {},
     "output_type": "execute_result"
    }
   ],
   "source": [
    "nqubits = 4\n",
    "backend_real = least_busy(provider.backends(filters=lambda x: x.configuration().n_qubits >= nqubits \n",
    "                                       and not x.configuration().simulator \n",
    "                                       and x.status().operational==True))\n",
    "print(\"least busy backend: \", backend_real)\n",
    "\n",
    "#directly select backend\n",
    "#system = provider.get_backend('ibmq_bogota')\n",
    "backend_real"
   ]
  },
  {
   "cell_type": "code",
   "execution_count": 17,
   "metadata": {},
   "outputs": [
    {
     "name": "stderr",
     "output_type": "stream",
     "text": [
      "<ipython-input-17-f5c16d0019b7>:8: DeprecationWarning: Passing a Qobj to Backend.run is deprecated and will be removed in a future release. Please pass in circuits or pulse schedules instead.\n",
      "  job = backend_real.run(qobj)\n"
     ]
    },
    {
     "name": "stdout",
     "output_type": "stream",
     "text": [
      "Job Status: job has successfully run\n"
     ]
    }
   ],
   "source": [
    "# 같은 회로로 실행할 총 횟수 설정\n",
    "shots = 2048\n",
    "# 회로 코드를 선택한 장비의 언어로 변환\n",
    "t_qpe = transpile(qpe, backend_real)\n",
    "#변환된 코드를 장비에 입력\n",
    "qobj = assemble(t_qpe, shots=shots)\n",
    "#작업 실행\n",
    "job = backend_real.run(qobj)\n",
    "#작업 진행 과정 표시\n",
    "job_monitor(job)"
   ]
  },
  {
   "cell_type": "code",
   "execution_count": 18,
   "metadata": {
    "scrolled": false
   },
   "outputs": [
    {
     "data": {
      "image/png": "[encoded data removed]",
      "text/plain": [
       "<Figure size 700x500 with 1 Axes>"
      ]
     },
     "execution_count": 18,
     "metadata": {},
     "output_type": "execute_result"
    }
   ],
   "source": [
    "#측정 결과값 출력\n",
    "results = job.result()\n",
    "#개수로 변환\n",
    "answer = results.get_counts(qpe)\n",
    "#히스토그램으로 표시\n",
    "plot_histogram(answer)"
   ]
  },
  {
   "cell_type": "markdown",
   "metadata": {},
   "source": [
    "2021-06-14 23:52 에 'ibmq_bogota'를 이용하여 얻어놓은 데이터는 아래와 같습니다."
   ]
  },
  {
   "cell_type": "code",
   "execution_count": 17,
   "metadata": {},
   "outputs": [
    {
     "data": {
      "text/plain": [
       "<IBMQBackend('ibmq_bogota') from IBMQ(hub='ibm-q-skku', group='internal', project='reservations')>"
      ]
     },
     "execution_count": 17,
     "metadata": {},
     "output_type": "execute_result"
    }
   ],
   "source": [
    "provider=IBMQ.get_provider(hub='ibm-q-skku', group='internal', project='reservations')\n",
    "\n",
    "backend_bogota= provider.get_backend('ibmq_bogota')\n",
    "backend_bogota"
   ]
  },
  {
   "cell_type": "code",
   "execution_count": 18,
   "metadata": {
    "scrolled": true
   },
   "outputs": [
    {
     "name": "stderr",
     "output_type": "stream",
     "text": [
      "<ipython-input-18-36e3b57e85f3>:8: DeprecationWarning: Passing a Qobj to Backend.run is deprecated and will be removed in a future release. Please pass in circuits or pulse schedules instead.\n",
      "  job = backend_bogota.run(qobj)\n"
     ]
    },
    {
     "name": "stdout",
     "output_type": "stream",
     "text": [
      "Job Status: job has successfully run\n"
     ]
    }
   ],
   "source": [
    "# 같은 회로로 실행할 총 횟수 설정\n",
    "shots = 2048\n",
    "# 회로 코드를 선택한 장비의 언어로 변환\n",
    "t_qpe = transpile(qpe, backend_bogota)\n",
    "#변환된 코드를 장비에 입력\n",
    "qobj = assemble(t_qpe, shots=shots)\n",
    "#작업 실행\n",
    "job = backend_bogota.run(qobj)\n",
    "#작업 진행 과정 표시\n",
    "job_monitor(job)"
   ]
  },
  {
   "cell_type": "code",
   "execution_count": 19,
   "metadata": {
    "scrolled": false
   },
   "outputs": [
    {
     "data": {
      "image/png": "[encoded data removed]",
      "text/plain": [
       "<Figure size 700x500 with 1 Axes>"
      ]
     },
     "execution_count": 19,
     "metadata": {},
     "output_type": "execute_result"
    }
   ],
   "source": [
    "#측정 결과값 출력\n",
    "results = job.result()\n",
    "#개수로 변환\n",
    "answer = results.get_counts(qpe)\n",
    "#히스토그램으로 표시\n",
    "plot_histogram(answer)"
   ]
  },
  {
   "cell_type": "markdown",
   "metadata": {},
   "source": [
    "이제 구하고자하는 행렬 또는 전체 큐빗 개수를 바꿔가며 여러가지 시도를 해보자."
   ]
  },
  {
   "cell_type": "code",
   "execution_count": 20,
   "metadata": {},
   "outputs": [
    {
     "data": {
      "text/plain": [
       "<IBMQBackend('ibmq_jakarta') from IBMQ(hub='ibm-q-skku', group='internal', project='reservations')>"
      ]
     },
     "execution_count": 20,
     "metadata": {},
     "output_type": "execute_result"
    }
   ],
   "source": [
    "provider=IBMQ.get_provider(hub='ibm-q-skku', group='internal', project='reservations')\n",
    "\n",
    "backend_jakarta= provider.get_backend('ibmq_jakarta')\n",
    "backend_jakarta"
   ]
  },
  {
   "cell_type": "code",
   "execution_count": 21,
   "metadata": {
    "scrolled": true
   },
   "outputs": [
    {
     "name": "stderr",
     "output_type": "stream",
     "text": [
      "<ipython-input-21-771fb9768d45>:8: DeprecationWarning: Passing a Qobj to Backend.run is deprecated and will be removed in a future release. Please pass in circuits or pulse schedules instead.\n",
      "  job = backend_jakarta.run(qobj)\n"
     ]
    },
    {
     "name": "stdout",
     "output_type": "stream",
     "text": [
      "Job Status: job has successfully run\n"
     ]
    }
   ],
   "source": [
    "# 같은 회로로 실행할 총 횟수 설정\n",
    "shots = 2048\n",
    "# 회로 코드를 선택한 장비의 언어로 변환\n",
    "t_qpe = transpile(qpe, backend_jakarta)\n",
    "#변환된 코드를 장비에 입력\n",
    "qobj = assemble(t_qpe, shots=shots)\n",
    "#작업 실행\n",
    "job = backend_jakarta.run(qobj)\n",
    "#작업 진행 과정 표시\n",
    "job_monitor(job)"
   ]
  },
  {
   "cell_type": "code",
   "execution_count": 22,
   "metadata": {
    "scrolled": false
   },
   "outputs": [
    {
     "data": {
      "image/png": "[encoded data removed]",
      "text/plain": [
       "<Figure size 700x500 with 1 Axes>"
      ]
     },
     "execution_count": 22,
     "metadata": {},
     "output_type": "execute_result"
    }
   ],
   "source": [
    "#측정 결과값 출력\n",
    "results = job.result()\n",
    "#개수로 변환\n",
    "answer = results.get_counts(qpe)\n",
    "#히스토그램으로 표시\n",
    "plot_histogram(answer)"
   ]
  },
  {
   "cell_type": "code",
   "execution_count": 26,
   "metadata": {
    "scrolled": true
   },
   "outputs": [],
   "source": [
    "# 큐빗 개수\n",
    "qn=10\n",
    "# 고전 비트 개수\n",
    "mn=qn-1\n",
    "# 회로 생성\n",
    "qpe_lot = QuantumCircuit(qn,mn)\n",
    "\n",
    "# 하다마드 게이트 연결\n",
    "for qubit in range(mn):\n",
    "    qpe_lot.h(qubit)\n",
    "\n",
    "# 초기상태 준비를 위해 x 게이트 연결\n",
    "qpe_lot.x(mn)\n",
    "\n",
    "# 각각의 큐빗들이 자릿수가 올바르게 의미가 되도록 컨트롤 U 게이트들 연결\n",
    "angle = 1*math.pi/4\n",
    "repetitions = 1\n",
    "for counting_qubit in range(mn):\n",
    "    for i in range(repetitions):\n",
    "        qpe_lot.cp(angle, counting_qubit, mn );\n",
    "    repetitions *= 2\n",
    "\n",
    "# 푸리에 역변환 회로 연결\n",
    "qft_dagger(qpe_lot, mn)\n",
    "\n",
    "# 관측 연결\n",
    "qpe_lot.barrier()\n",
    "for n in range(mn):\n",
    "    qpe_lot.measure(n,n)"
   ]
  },
  {
   "cell_type": "markdown",
   "metadata": {},
   "source": [
    "## Simulation"
   ]
  },
  {
   "cell_type": "code",
   "execution_count": 27,
   "metadata": {},
   "outputs": [
    {
     "data": {
      "text/plain": [
       "<IBMQSimulator('ibmq_qasm_simulator') from IBMQ(hub='ibm-q', group='open', project='main')>"
      ]
     },
     "execution_count": 27,
     "metadata": {},
     "output_type": "execute_result"
    }
   ],
   "source": [
    "provider=IBMQ.get_provider(hub='ibm-q', group='open', project='main')\n",
    "backend_sim = provider.get_backend('ibmq_qasm_simulator')\n",
    "backend_sim"
   ]
  },
  {
   "cell_type": "code",
   "execution_count": 29,
   "metadata": {
    "scrolled": true
   },
   "outputs": [
    {
     "name": "stdout",
     "output_type": "stream",
     "text": [
      "Job Status: job has successfully run\n"
     ]
    },
    {
     "data": {
      "image/png": "[encoded data removed]",
      "text/plain": [
       "<Figure size 700x500 with 1 Axes>"
      ]
     },
     "execution_count": 29,
     "metadata": {},
     "output_type": "execute_result"
    }
   ],
   "source": [
    "# 같은 회로로 실행할 총 횟수 설정\n",
    "shots = 2048\n",
    "# 회로 코드를 선택한 장비의 언어로 변환\n",
    "t_qpe = transpile(qpe_lot, backend_sim)\n",
    "#변환된 코드를 장비에 입력\n",
    "qobj = assemble(t_qpe, shots=shots)\n",
    "#작업 실행\n",
    "job = backend_sim.run(qobj)\n",
    "#작업 진행 과정 표시\n",
    "job_monitor(job)\n",
    "#측정 결과값 출력\n",
    "results = job.result()\n",
    "#개수로 변환\n",
    "answer = results.get_counts(qpe_lot)\n",
    "#히스토그램으로 표시\n",
    "plot_histogram(answer)"
   ]
  },
  {
   "cell_type": "markdown",
   "metadata": {},
   "source": [
    "## Real Device"
   ]
  },
  {
   "cell_type": "code",
   "execution_count": 28,
   "metadata": {},
   "outputs": [
    {
     "data": {
      "text/plain": [
       "<IBMQBackend('ibmq_toronto') from IBMQ(hub='ibm-q-skku', group='internal', project='reservations')>"
      ]
     },
     "execution_count": 28,
     "metadata": {},
     "output_type": "execute_result"
    }
   ],
   "source": [
    "provider=IBMQ.get_provider(hub='ibm-q-skku', group='internal', project='reservations')\n",
    "\n",
    "backend_toronto= provider.get_backend('ibmq_toronto')\n",
    "backend_toronto"
   ]
  },
  {
   "cell_type": "code",
   "execution_count": 29,
   "metadata": {
    "scrolled": true
   },
   "outputs": [
    {
     "name": "stderr",
     "output_type": "stream",
     "text": [
      "<ipython-input-29-7f00afd99fff>:8: DeprecationWarning: Passing a Qobj to Backend.run is deprecated and will be removed in a future release. Please pass in circuits or pulse schedules instead.\n",
      "  job = backend_toronto.run(qobj)\n"
     ]
    },
    {
     "name": "stdout",
     "output_type": "stream",
     "text": [
      "Job Status: job has successfully run\n"
     ]
    }
   ],
   "source": [
    "# 같은 회로로 실행할 총 횟수 설정\n",
    "shots = 2048\n",
    "# 회로 코드를 선택한 장비의 언어로 변환\n",
    "t_qpe = transpile(qpe_lot, backend_toronto)\n",
    "#변환된 코드를 장비에 입력\n",
    "qobj = assemble(t_qpe, shots=shots)\n",
    "#작업 실행\n",
    "job = backend_toronto.run(qobj)\n",
    "#작업 진행 과정 표시\n",
    "job_monitor(job)"
   ]
  },
  {
   "cell_type": "code",
   "execution_count": 30,
   "metadata": {
    "scrolled": true
   },
   "outputs": [
    {
     "data": {
      "image/png": "[encoded data removed]",
      "text/plain": [
       "<Figure size 700x500 with 1 Axes>"
      ]
     },
     "execution_count": 30,
     "metadata": {},
     "output_type": "execute_result"
    }
   ],
   "source": [
    "#측정 결과값 출력\n",
    "results = job.result()\n",
    "#개수로 변환\n",
    "answer = results.get_counts(qpe_lot)\n",
    "answer\n",
    "#히스토그램으로 표시\n",
    "plot_histogram(answer)"
   ]
  },
  {
   "cell_type": "code",
   "execution_count": 31,
   "metadata": {},
   "outputs": [
    {
     "data": {
      "text/plain": [
       "{'000000000': 17,\n",
       " '000000001': 6,\n",
       " '000010000': 23,\n",
       " '100000000': 11,\n",
       " '100000001': 4,\n",
       " '100000010': 7,\n",
       " '100000011': 3,\n",
       " '100000100': 10,\n",
       " '100000101': 5,\n",
       " '100000110': 3,\n",
       " '100000111': 1,\n",
       " '100001000': 10,\n",
       " '100001001': 4,\n",
       " '100001010': 4,\n",
       " '100001011': 3,\n",
       " '100001100': 5,\n",
       " '100001101': 3,\n",
       " '100001110': 2,\n",
       " '000010001': 14,\n",
       " '100010000': 15,\n",
       " '100010001': 4,\n",
       " '100010010': 6,\n",
       " '100010011': 3,\n",
       " '100010100': 10,\n",
       " '100010101': 3,\n",
       " '100010110': 1,\n",
       " '100010111': 3,\n",
       " '100011000': 6,\n",
       " '100011001': 1,\n",
       " '100011010': 2,\n",
       " '100011011': 2,\n",
       " '100011100': 1,\n",
       " '100011101': 4,\n",
       " '100011110': 1,\n",
       " '000010010': 4,\n",
       " '100100000': 5,\n",
       " '100100001': 5,\n",
       " '100100010': 5,\n",
       " '100100011': 1,\n",
       " '100100100': 3,\n",
       " '100100101': 2,\n",
       " '100100110': 4,\n",
       " '100100111': 1,\n",
       " '100101000': 4,\n",
       " '100101001': 3,\n",
       " '100101011': 1,\n",
       " '100101100': 4,\n",
       " '100101101': 1,\n",
       " '100101110': 3,\n",
       " '100101111': 1,\n",
       " '000010011': 3,\n",
       " '100110000': 9,\n",
       " '100110001': 2,\n",
       " '100110010': 3,\n",
       " '100110011': 1,\n",
       " '100110100': 2,\n",
       " '100110101': 2,\n",
       " '100110110': 3,\n",
       " '100110111': 2,\n",
       " '100111000': 4,\n",
       " '100111001': 1,\n",
       " '100111010': 5,\n",
       " '100111011': 1,\n",
       " '100111100': 4,\n",
       " '100111110': 2,\n",
       " '100111111': 5,\n",
       " '000010100': 4,\n",
       " '101000000': 17,\n",
       " '101000001': 6,\n",
       " '101000010': 6,\n",
       " '101000011': 3,\n",
       " '101000100': 8,\n",
       " '101000101': 9,\n",
       " '101000110': 4,\n",
       " '101000111': 5,\n",
       " '101001000': 7,\n",
       " '101001001': 2,\n",
       " '101001010': 3,\n",
       " '101001011': 3,\n",
       " '101001100': 5,\n",
       " '101001101': 4,\n",
       " '101001110': 4,\n",
       " '101001111': 1,\n",
       " '000010101': 3,\n",
       " '101010000': 8,\n",
       " '101010001': 1,\n",
       " '101010010': 5,\n",
       " '101010011': 4,\n",
       " '101010100': 10,\n",
       " '101010101': 3,\n",
       " '101010110': 2,\n",
       " '101010111': 5,\n",
       " '101011000': 4,\n",
       " '101011001': 3,\n",
       " '101011010': 2,\n",
       " '101011011': 1,\n",
       " '101011100': 4,\n",
       " '101011101': 3,\n",
       " '101011110': 2,\n",
       " '000010110': 8,\n",
       " '101100000': 8,\n",
       " '101100001': 2,\n",
       " '101100010': 6,\n",
       " '101100011': 4,\n",
       " '101100100': 5,\n",
       " '101100101': 1,\n",
       " '101100110': 2,\n",
       " '101100111': 1,\n",
       " '101101000': 4,\n",
       " '101101001': 3,\n",
       " '101101010': 3,\n",
       " '101101011': 2,\n",
       " '101101100': 6,\n",
       " '101101101': 2,\n",
       " '101101110': 1,\n",
       " '101101111': 4,\n",
       " '000010111': 2,\n",
       " '101110000': 7,\n",
       " '101110001': 3,\n",
       " '101110010': 1,\n",
       " '101110100': 3,\n",
       " '101110101': 1,\n",
       " '101110110': 2,\n",
       " '101110111': 1,\n",
       " '101111000': 3,\n",
       " '101111001': 2,\n",
       " '101111010': 1,\n",
       " '101111011': 1,\n",
       " '101111100': 2,\n",
       " '101111110': 1,\n",
       " '101111111': 1,\n",
       " '000011000': 7,\n",
       " '110000000': 12,\n",
       " '110000001': 8,\n",
       " '110000010': 6,\n",
       " '110000011': 2,\n",
       " '110000100': 14,\n",
       " '110000101': 3,\n",
       " '110000110': 4,\n",
       " '110000111': 2,\n",
       " '110001000': 7,\n",
       " '110001010': 3,\n",
       " '110001011': 1,\n",
       " '110001100': 3,\n",
       " '110001101': 3,\n",
       " '110001110': 4,\n",
       " '110001111': 1,\n",
       " '110010000': 9,\n",
       " '110010001': 4,\n",
       " '110010010': 6,\n",
       " '110010011': 1,\n",
       " '110010100': 9,\n",
       " '110010101': 5,\n",
       " '110010110': 4,\n",
       " '110010111': 1,\n",
       " '110011000': 5,\n",
       " '110011001': 2,\n",
       " '110011010': 1,\n",
       " '110011011': 1,\n",
       " '110011100': 2,\n",
       " '110011101': 3,\n",
       " '000011010': 6,\n",
       " '110100000': 12,\n",
       " '110100001': 4,\n",
       " '110100010': 4,\n",
       " '110100011': 1,\n",
       " '110100100': 10,\n",
       " '110100101': 3,\n",
       " '110100110': 6,\n",
       " '110101000': 5,\n",
       " '110101001': 3,\n",
       " '110101010': 1,\n",
       " '110101011': 2,\n",
       " '110101100': 5,\n",
       " '110101101': 4,\n",
       " '110101110': 1,\n",
       " '110110000': 8,\n",
       " '110110001': 7,\n",
       " '110110010': 2,\n",
       " '110110011': 2,\n",
       " '110110100': 4,\n",
       " '110110101': 3,\n",
       " '110110110': 3,\n",
       " '110110111': 1,\n",
       " '110111000': 6,\n",
       " '110111001': 1,\n",
       " '110111010': 1,\n",
       " '110111011': 1,\n",
       " '110111100': 3,\n",
       " '110111101': 4,\n",
       " '110111110': 1,\n",
       " '110111111': 1,\n",
       " '000011100': 3,\n",
       " '111000000': 11,\n",
       " '111000001': 6,\n",
       " '111000010': 3,\n",
       " '111000011': 4,\n",
       " '111000100': 7,\n",
       " '111000101': 2,\n",
       " '111000110': 4,\n",
       " '111000111': 1,\n",
       " '111001000': 3,\n",
       " '111001001': 2,\n",
       " '111001010': 2,\n",
       " '111001100': 4,\n",
       " '111001101': 2,\n",
       " '111001110': 1,\n",
       " '000011101': 2,\n",
       " '111010000': 5,\n",
       " '111010001': 4,\n",
       " '111010010': 2,\n",
       " '111010011': 3,\n",
       " '111010100': 4,\n",
       " '111010101': 4,\n",
       " '111010110': 2,\n",
       " '111010111': 3,\n",
       " '111011000': 5,\n",
       " '111011001': 4,\n",
       " '111011010': 3,\n",
       " '111011100': 3,\n",
       " '111011101': 2,\n",
       " '111011110': 1,\n",
       " '000011110': 3,\n",
       " '111100000': 4,\n",
       " '111100001': 6,\n",
       " '111100010': 6,\n",
       " '111100100': 4,\n",
       " '111100101': 1,\n",
       " '111100110': 2,\n",
       " '111100111': 4,\n",
       " '111101000': 2,\n",
       " '111101001': 2,\n",
       " '111101010': 1,\n",
       " '111101101': 1,\n",
       " '111101110': 2,\n",
       " '111101111': 1,\n",
       " '111110000': 7,\n",
       " '111110001': 4,\n",
       " '111110010': 2,\n",
       " '111110100': 2,\n",
       " '111110101': 2,\n",
       " '111110110': 3,\n",
       " '111110111': 1,\n",
       " '111111000': 4,\n",
       " '111111001': 3,\n",
       " '111111010': 4,\n",
       " '111111011': 2,\n",
       " '111111100': 3,\n",
       " '111111101': 2,\n",
       " '111111110': 1,\n",
       " '000000010': 5,\n",
       " '000100000': 10,\n",
       " '000100001': 3,\n",
       " '000100010': 6,\n",
       " '000100011': 5,\n",
       " '000100100': 4,\n",
       " '000100101': 4,\n",
       " '000100110': 5,\n",
       " '000100111': 2,\n",
       " '000101000': 7,\n",
       " '000101001': 5,\n",
       " '000101010': 6,\n",
       " '000101100': 6,\n",
       " '000101101': 1,\n",
       " '000000011': 3,\n",
       " '000110000': 12,\n",
       " '000110001': 2,\n",
       " '000110010': 6,\n",
       " '000110011': 2,\n",
       " '000110100': 6,\n",
       " '000110101': 3,\n",
       " '000110110': 3,\n",
       " '000110111': 5,\n",
       " '000111000': 3,\n",
       " '000111001': 2,\n",
       " '000111010': 2,\n",
       " '000111011': 2,\n",
       " '000111100': 2,\n",
       " '000111101': 5,\n",
       " '000111110': 2,\n",
       " '000000100': 13,\n",
       " '001000000': 15,\n",
       " '001000001': 3,\n",
       " '001000010': 3,\n",
       " '001000011': 4,\n",
       " '001000100': 18,\n",
       " '001000101': 5,\n",
       " '001000110': 4,\n",
       " '001000111': 3,\n",
       " '001001000': 7,\n",
       " '001001001': 1,\n",
       " '001001010': 4,\n",
       " '001001011': 3,\n",
       " '001001100': 3,\n",
       " '001001101': 4,\n",
       " '001001110': 2,\n",
       " '001001111': 3,\n",
       " '000000101': 7,\n",
       " '001010000': 14,\n",
       " '001010001': 9,\n",
       " '001010010': 10,\n",
       " '001010011': 5,\n",
       " '001010100': 7,\n",
       " '001010101': 3,\n",
       " '001010110': 1,\n",
       " '001010111': 4,\n",
       " '001011000': 3,\n",
       " '001011001': 3,\n",
       " '001011010': 4,\n",
       " '001011100': 5,\n",
       " '001011101': 3,\n",
       " '001011110': 5,\n",
       " '001011111': 2,\n",
       " '000000110': 3,\n",
       " '001100000': 11,\n",
       " '001100001': 3,\n",
       " '001100010': 7,\n",
       " '001100011': 2,\n",
       " '001100100': 8,\n",
       " '001100101': 6,\n",
       " '001100110': 7,\n",
       " '001100111': 2,\n",
       " '001101000': 7,\n",
       " '001101001': 3,\n",
       " '001101010': 5,\n",
       " '001101100': 1,\n",
       " '001101110': 1,\n",
       " '001101111': 2,\n",
       " '000000111': 4,\n",
       " '001110000': 9,\n",
       " '001110001': 6,\n",
       " '001110010': 7,\n",
       " '001110011': 4,\n",
       " '001110100': 3,\n",
       " '001110101': 2,\n",
       " '001110110': 4,\n",
       " '001110111': 1,\n",
       " '001111000': 3,\n",
       " '001111001': 3,\n",
       " '001111010': 3,\n",
       " '001111011': 3,\n",
       " '001111100': 3,\n",
       " '001111101': 1,\n",
       " '001111110': 3,\n",
       " '000001000': 3,\n",
       " '010000000': 14,\n",
       " '010000001': 11,\n",
       " '010000010': 6,\n",
       " '010000011': 5,\n",
       " '010000100': 15,\n",
       " '010000101': 7,\n",
       " '010000110': 9,\n",
       " '010000111': 5,\n",
       " '010001000': 4,\n",
       " '010001001': 5,\n",
       " '010001010': 8,\n",
       " '010001011': 4,\n",
       " '010001100': 5,\n",
       " '010001101': 7,\n",
       " '010001110': 3,\n",
       " '010001111': 1,\n",
       " '000001001': 2,\n",
       " '010010000': 15,\n",
       " '010010001': 11,\n",
       " '010010010': 7,\n",
       " '010010011': 3,\n",
       " '010010100': 16,\n",
       " '010010101': 3,\n",
       " '010010110': 3,\n",
       " '010010111': 4,\n",
       " '010011000': 10,\n",
       " '010011001': 2,\n",
       " '010011010': 3,\n",
       " '010011100': 5,\n",
       " '010011101': 1,\n",
       " '010011110': 1,\n",
       " '000001010': 2,\n",
       " '010100000': 11,\n",
       " '010100001': 7,\n",
       " '010100010': 2,\n",
       " '010100011': 4,\n",
       " '010100100': 11,\n",
       " '010100101': 4,\n",
       " '010100110': 11,\n",
       " '010100111': 2,\n",
       " '010101000': 9,\n",
       " '010101001': 3,\n",
       " '010101010': 3,\n",
       " '010101011': 1,\n",
       " '010101100': 3,\n",
       " '010101101': 2,\n",
       " '010101110': 5,\n",
       " '010101111': 2,\n",
       " '000001011': 1,\n",
       " '010110000': 16,\n",
       " '010110001': 5,\n",
       " '010110010': 8,\n",
       " '010110011': 5,\n",
       " '010110100': 4,\n",
       " '010110101': 3,\n",
       " '010110110': 4,\n",
       " '010110111': 2,\n",
       " '010111000': 3,\n",
       " '010111001': 1,\n",
       " '010111010': 4,\n",
       " '010111100': 3,\n",
       " '010111101': 4,\n",
       " '010111110': 3,\n",
       " '010111111': 2,\n",
       " '000001100': 5,\n",
       " '011000000': 13,\n",
       " '011000001': 10,\n",
       " '011000010': 6,\n",
       " '011000011': 6,\n",
       " '011000100': 10,\n",
       " '011000101': 7,\n",
       " '011000110': 6,\n",
       " '011000111': 4,\n",
       " '011001000': 9,\n",
       " '011001001': 6,\n",
       " '011001010': 6,\n",
       " '011001011': 1,\n",
       " '011001100': 7,\n",
       " '011001101': 4,\n",
       " '011001110': 3,\n",
       " '011001111': 4,\n",
       " '000001101': 5,\n",
       " '011010000': 11,\n",
       " '011010001': 2,\n",
       " '011010010': 6,\n",
       " '011010011': 4,\n",
       " '011010100': 9,\n",
       " '011010101': 2,\n",
       " '011010110': 3,\n",
       " '011010111': 6,\n",
       " '011011000': 6,\n",
       " '011011001': 3,\n",
       " '011011010': 6,\n",
       " '011011100': 5,\n",
       " '011011101': 5,\n",
       " '011011110': 7,\n",
       " '000001110': 2,\n",
       " '011100000': 8,\n",
       " '011100001': 4,\n",
       " '011100010': 1,\n",
       " '011100011': 3,\n",
       " '011100100': 4,\n",
       " '011100101': 2,\n",
       " '011100110': 5,\n",
       " '011100111': 1,\n",
       " '011101000': 1,\n",
       " '011101001': 3,\n",
       " '011101010': 4,\n",
       " '011101011': 2,\n",
       " '011101100': 4,\n",
       " '011101101': 4,\n",
       " '011101110': 4,\n",
       " '011101111': 4,\n",
       " '000001111': 3,\n",
       " '011110000': 8,\n",
       " '011110001': 4,\n",
       " '011110010': 7,\n",
       " '011110011': 4,\n",
       " '011110100': 5,\n",
       " '011110101': 2,\n",
       " '011110110': 5,\n",
       " '011110111': 2,\n",
       " '011111000': 6,\n",
       " '011111001': 1,\n",
       " '011111010': 1,\n",
       " '011111100': 3,\n",
       " '011111101': 1,\n",
       " '011111110': 2,\n",
       " '011111111': 1}"
      ]
     },
     "execution_count": 31,
     "metadata": {},
     "output_type": "execute_result"
    }
   ],
   "source": [
    "answer"
   ]
  },
  {
   "cell_type": "markdown",
   "metadata": {},
   "source": [
    "### Reference\n",
    "\n",
    "[1] https://quantum-computing.ibm.com/lab/docs/iql/manage/systems/\n",
    "\n",
    "[2] https://github.com/Qiskit/ibmq-device-information/tree/master/backends/yorktown/V1\n",
    "\n",
    "[3] https://qiskit.org/textbook/ch-algorithms/quantum-phase-estimation.html"
   ]
  },
  {
   "cell_type": "code",
   "execution_count": null,
   "metadata": {},
   "outputs": [],
   "source": []
  }
 ],
 "metadata": {
  "kernelspec": {
   "display_name": "Python 3",
   "language": "python",
   "name": "python3"
  },
  "language_info": {
   "codemirror_mode": {
    "name": "ipython",
    "version": 3
   },
   "file_extension": ".py",
   "mimetype": "text/x-python",
   "name": "python",
   "nbconvert_exporter": "python",
   "pygments_lexer": "ipython3",
   "version": "3.8.5"
  }
 },
 "nbformat": 4,
 "nbformat_minor": 5
}
